{
  "nbformat": 4,
  "nbformat_minor": 0,
  "metadata": {
    "colab": {
      "provenance": []
    },
    "kernelspec": {
      "name": "python3",
      "display_name": "Python 3"
    },
    "language_info": {
      "name": "python"
    }
  },
  "cells": [
    {
      "cell_type": "code",
      "execution_count": null,
      "metadata": {
        "id": "2HwVPM7FPvvJ"
      },
      "outputs": [],
      "source": [
        "\"\"\"\n",
        "\n",
        "Integrated Gradients note book for VRDU models\n",
        "\n",
        "\"\"\""
      ]
    }
  ]
}