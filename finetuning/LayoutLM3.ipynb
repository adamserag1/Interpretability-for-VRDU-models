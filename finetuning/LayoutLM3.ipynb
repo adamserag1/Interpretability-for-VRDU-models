{
 "cells": [
  {
   "cell_type": "markdown",
   "metadata": {
    "colab_type": "text",
    "id": "view-in-github"
   },
   "source": [
    "<a href=\"https://colab.research.google.com/github/adamserag1/Interpretability-for-VRDU-models/blob/main/notebooks/LayoutLM3.ipynb\" target=\"_parent\"><img src=\"https://colab.research.google.com/assets/colab-badge.svg\" alt=\"Open In Colab\"/></a>"
   ]
  },
  {
   "cell_type": "markdown",
   "metadata": {
    "id": "iO1LTTzwP2Qf"
   },
   "source": [
    "# Layout LMv3"
   ]
  },
  {
   "cell_type": "markdown",
   "metadata": {
    "id": "1YVtkMmueCJo"
   },
   "source": [
    "## Imports"
   ]
  },
  {
   "cell_type": "code",
   "execution_count": null,
   "metadata": {
    "id": "XRJ8ZSToPYan"
   },
   "outputs": [],
   "source": [
    "# UNCOMMNET FOR USE IN COLAB\n",
    "!git clone https://github.com/adamserag1/Interpretability-for-VRDU-models.git"
   ]
  },
  {
   "cell_type": "code",
   "execution_count": null,
   "metadata": {
    "id": "uNdcC046SBoG"
   },
   "outputs": [],
   "source": [
    "!pip install datasets seqeval evaluate transformers torch"
   ]
  },
  {
   "cell_type": "code",
   "execution_count": null,
   "metadata": {
    "id": "RHU408GjTAvY"
   },
   "outputs": [],
   "source": [
    "from transformers import AutoProcessor, LayoutLMv3ForTokenClassification, set_seed\n",
    "from PIL import Image,ImageDraw, ImageFont\n",
    "from datasets import load_dataset\n",
    "import torch\n",
    "import pandas as pd\n",
    "import evaluate\n",
    "device = torch.device(\"cuda\" if torch.cuda.is_available() else \"cpu\")\n",
    "\n",
    "set_seed(0)"
   ]
  },
  {
   "cell_type": "markdown",
   "metadata": {
    "id": "mCNjVJtHeHTe"
   },
   "source": [
    "## Setup"
   ]
  },
  {
   "cell_type": "markdown",
   "metadata": {
    "id": "3xzTCjwGeayh"
   },
   "source": [
    "### Data"
   ]
  },
  {
   "cell_type": "code",
   "execution_count": null,
   "metadata": {
    "colab": {
     "base_uri": "https://localhost:8080/"
    },
    "id": "3HXn8fVkCH72",
    "outputId": "59c776e6-13b0-457f-bb66-3b0498eed34d"
   },
   "outputs": [],
   "source": [
    "funsd = load_dataset(\"nielsr/funsd\", trust_remote_code=True)\n",
    "funsd_train = funsd[\"train\"]\n",
    "labels = funsd_train.features[\"ner_tags\"].feature.names\n",
    "id2label = {v: k for v, k in enumerate(labels)}\n",
    "label2id = {v: k for k, v in enumerate(labels)}\n",
    "print(id2label)\n",
    "print(label2id)"
   ]
  },
  {
   "cell_type": "code",
   "execution_count": null,
   "metadata": {
    "id": "wvJIlq1LC4cu"
   },
   "outputs": [],
   "source": [
    "processor = AutoProcessor.from_pretrained(\"microsoft/layoutlmv3-base\", apply_ocr=False)"
   ]
  },
  {
   "cell_type": "code",
   "execution_count": null,
   "metadata": {
    "id": "x3iGYrrlepDN"
   },
   "outputs": [],
   "source": [
    "def encode(example):\n",
    "  images = [Image.open(path).convert(\"RGB\") for path in example[\"image_path\"]]\n",
    "  words = example[\"words\"]\n",
    "  boxes = example[\"bboxes\"]\n",
    "  labels = example[\"ner_tags\"]\n",
    "  encoding = processor(images,\n",
    "                       words,\n",
    "                       boxes=boxes,\n",
    "                       word_labels=labels,\n",
    "                       padding=\"max_length\",\n",
    "                       truncation=True,\n",
    "                       return_tensors=\"pt\")\n",
    "  return encoding"
   ]
  },
  {
   "cell_type": "code",
   "execution_count": null,
   "metadata": {
    "id": "5CvQNq-QFCf6"
   },
   "outputs": [],
   "source": [
    "# 80:20 Train : Validate\n",
    "split = funsd[\"train\"].train_test_split(test_size=0.2)\n",
    "train_dataset = split[\"train\"]\n",
    "val_dataset = split[\"test\"]\n",
    "\n",
    "train_dataset = train_dataset.map(encode, batched=True, remove_columns=funsd[\"train\"].column_names)\n",
    "val_dataset = val_dataset.map(encode, batched=True, remove_columns=funsd[\"train\"].column_names)"
   ]
  },
  {
   "cell_type": "markdown",
   "metadata": {
    "id": "xMfBLS7DJRc4"
   },
   "source": [
    "### Finetuning"
   ]
  },
  {
   "cell_type": "code",
   "execution_count": null,
   "metadata": {
    "id": "Df6ArY3RJZeG"
   },
   "outputs": [],
   "source": [
    "metric = evaluate.load(\"seqeval\")\n",
    "import numpy as np\n",
    "def compute_metrics(p):\n",
    "  predictions, labels = p\n",
    "  predictions = np.argmax(predictions, axis=2)\n",
    "\n",
    "  true_preds = [\n",
    "      [id2label[p] for (p, l) in zip(prediction, label) if l != -100]\n",
    "      for prediction, label in zip(predictions, labels)\n",
    "  ]\n",
    "  true_labels = [\n",
    "      [id2label[l] for (p, l) in zip(prediction, label) if l != -100]\n",
    "      for prediction, label in zip(predictions, labels)\n",
    "  ]\n",
    "  results = metric.compute(predictions=true_preds, references=true_labels)\n",
    "\n",
    "  return {\n",
    "      \"precision\": results[\"overall_precision\"],\n",
    "      \"recall\": results[\"overall_recall\"],\n",
    "      \"f1\": results[\"overall_f1\"],\n",
    "      \"accuracy\": results[\"overall_accuracy\"],\n",
    "  }"
   ]
  },
  {
   "cell_type": "code",
   "execution_count": null,
   "metadata": {
    "colab": {
     "base_uri": "https://localhost:8080/",
     "height": 17,
     "referenced_widgets": [
      "8c684d3383d14409a9e705e66f84c57e",
      "3878d996f3f344e4b7bf48f541bb47df",
      "49bad4333e3c44b8bb2b13a2a2d4cdf0",
      "ccb4e106a7e246e1881f1a3fe4dea24d",
      "e5d05ab0497f431d95216ceceef46a50",
      "4e42c00fb43442fcb4b60074069e8595",
      "4ae3f88eccba47ba80c31c9cafeb4887",
      "796904fa463846d48519c529ee69729d",
      "e9912b0d08de422ea1b949f3aa1990df",
      "a71a7bb1d5b34182b9674387ce60cedf",
      "15436454d5474beca7fec9a40297d8e1",
      "30231d33d9ed4c00b7f209cac6f7d067",
      "38ec264099204f67a30e16bdfb50725e",
      "7a9550cce84f491d9ddf3382eb072266",
      "1ac9fb164b2743948b5af97f6d26fd9d",
      "b8ca0bc5a4ee4fd2bd4f8c032bfe8e33",
      "95bf88e138094238a1126bc3a0b99de0",
      "72575807b0ea415d8504cde1fb55b4be",
      "faf29aa430b94524978b55a908312b4e",
      "fc05833c5e934472a8d464f6b7d47d65"
     ]
    },
    "id": "aDP_eiwlQmcM",
    "outputId": "9d01bc0a-5f70-4fe6-febd-9d1db21ed4ef"
   },
   "outputs": [],
   "source": [
    "from huggingface_hub import login\n",
    "login()"
   ]
  },
  {
   "cell_type": "code",
   "execution_count": null,
   "metadata": {
    "id": "-G8Ujd_7JmHb"
   },
   "outputs": [],
   "source": [
    "from transformers import TrainingArguments, Trainer\n",
    "output_dir = \"./layoutlmv3-finetuned-funsd\"\n",
    "model = LayoutLMv3ForTokenClassification.from_pretrained(\"microsoft/layoutlmv3-base\", num_labels=len(labels), id2label=id2label, label2id=label2id)\n",
    "training_args = TrainingArguments(\n",
    "    output_dir=output_dir,\n",
    "    max_steps=1000,\n",
    "    per_device_train_batch_size=2,\n",
    "    per_device_eval_batch_size=2,\n",
    "    learning_rate=1e-5,\n",
    "    eval_strategy=\"steps\",\n",
    "    eval_steps=100,\n",
    "    load_best_model_at_end=True,\n",
    "    metric_for_best_model=\"f1\"\n",
    ")\n",
    "## Chat gpt i want to save to hub etc.\n",
    "trainer = Trainer(\n",
    "    model=model,\n",
    "    args=training_args,\n",
    "    train_dataset=train_dataset,\n",
    "    eval_dataset=val_dataset,\n",
    "    tokenizer=processor,\n",
    "    compute_metrics=compute_metrics,\n",
    ")\n",
    "\n",
    "trainer.train()"
   ]
  },
  {
   "cell_type": "code",
   "execution_count": null,
   "metadata": {
    "id": "uCuC1nhJRaZ7"
   },
   "outputs": [],
   "source": [
    "trainer.push_to_hub(\"adamadam111/layoutlmv3bfinetuned-funsd-01\")\n",
    "processor.push_to_hub(\"adamadam111/layoutlmv3b-finetuned-funsd-01\")"
   ]
  },
  {
   "cell_type": "code",
   "execution_count": null,
   "metadata": {
    "colab": {
     "base_uri": "https://localhost:8080/"
    },
    "id": "Por8rtJmFz-1",
    "outputId": "86b58ec7-d537-49a6-ff29-c4e894a81a7f"
   },
   "outputs": [],
   "source": [
    "predictions = logits.argmax(-1).squeeze().tolist()\n",
    "token_boxes = encoding.bbox.squeeze().tolist()\n",
    "\n",
    "predictions = [p for p, l in zip(predictions, labels) if l != 100]\n",
    "labels = [l for l in labels if l != 100]\n",
    "\n",
    "width, height = image.size\n",
    "\n",
    "def denormalize_box(bbox, width, height):\n",
    "  return [\n",
    "      width * (bbox[0] / 1000),\n",
    "      height * (bbox[1] / 1000),\n",
    "      width * (bbox[2] / 1000),\n",
    "      height * (bbox[3] / 1000),\n",
    "  ]\n",
    "\n",
    "true_preds = [id2label[pred] for pred in predictions]\n",
    "true_boxes = [denormalize_box(box, width, height) for box in token_boxes]\n",
    "\n",
    "print(true_preds)\n",
    "print(len(example[\"ner_tags\"]))\n",
    "print(len(logits.argmax(-1).squeeze().tolist()))\n",
    "count = 0\n",
    "correct = 0\n",
    "for idx, pred in enumerate(predictions):\n",
    "  if pred == example[\"ner_tags\"][idx]:\n",
    "    correct += 1\n",
    "  count += 1\n",
    "\n",
    "accuracy = correct/count\n",
    "print(accuracy)\n"
   ]
  },
  {
   "cell_type": "code",
   "execution_count": null,
   "metadata": {
    "colab": {
     "base_uri": "https://localhost:8080/",
     "height": 1000
    },
    "id": "9ZbH2MyqMsg4",
    "outputId": "fbcec34a-c5b8-4227-839d-b93ba4051e5f"
   },
   "outputs": [],
   "source": [
    "draw = ImageDraw.Draw(image)\n",
    "\n",
    "font = ImageFont.load_default()\n",
    "\n",
    "def iob_to_label(label):\n",
    "    label = label[2:]\n",
    "    if not label:\n",
    "        return 'other'\n",
    "    return label\n",
    "\n",
    "label2color = {'question':'blue', 'answer':'green', 'header':'orange', 'other':'violet'}\n",
    "\n",
    "for prediction, box in zip(true_preds, true_boxes):\n",
    "    predicted_label = iob_to_label(prediction).lower()\n",
    "    draw.rectangle(box, outline=label2color[predicted_label])\n",
    "    draw.text(\n",
    "        (box[0]+10, box[1]-10), text=predicted_label, fill=label2color[predicted_label], font=font\n",
    "    )\n",
    "\n",
    "image"
   ]
  }
 ],
 "metadata": {
  "accelerator": "GPU",
  "colab": {
   "authorship_tag": "ABX9TyNhtDNZumhLx03umMa5ZHrP",
   "gpuType": "A100",
   "include_colab_link": true,
   "machine_shape": "hm",
   "provenance": []
  },
  "kernelspec": {
   "display_name": "Python 3",
   "name": "python3"
  },
  "language_info": {
   "name": "python"
  }
 },
 "nbformat": 4,
 "nbformat_minor": 0
}
