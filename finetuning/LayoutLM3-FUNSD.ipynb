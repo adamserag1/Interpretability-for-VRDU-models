{
 "cells": [
  {
   "cell_type": "markdown",
   "metadata": {
    "colab_type": "text",
    "id": "view-in-github"
   },
   "source": [
    "<a href=\"https://colab.research.google.com/github/adamserag1/Interpretability-for-VRDU-models/blob/remove-widgets-for-github-viewing/finetuning/LayoutLM3.ipynb\" target=\"_parent\"><img src=\"https://colab.research.google.com/assets/colab-badge.svg\" alt=\"Open In Colab\"/></a>"
   ]
  },
  {
   "cell_type": "markdown",
   "metadata": {
    "id": "iO1LTTzwP2Qf"
   },
   "source": [
    "# Layout LMv3"
   ]
  },
  {
   "cell_type": "markdown",
   "metadata": {
    "id": "1YVtkMmueCJo"
   },
   "source": [
    "## Imports"
   ]
  },
  {
   "cell_type": "code",
   "execution_count": null,
   "metadata": {
    "id": "XRJ8ZSToPYan"
   },
   "outputs": [],
   "source": [
    "# UNCOMMNET FOR USE IN COLAB\n",
    "# !git clone https://github.com/adamserag1/Interpretability-for-VRDU-models.git"
   ]
  },
  {
   "cell_type": "code",
   "execution_count": null,
   "metadata": {
    "colab": {
     "base_uri": "https://localhost:8080/"
    },
    "id": "uNdcC046SBoG",
    "outputId": "01a203f9-101f-442d-8e26-7b5d96af01f6"
   },
   "outputs": [],
   "source": [
    "!pip install datasets seqeval evaluate transformers torch"
   ]
  },
  {
   "cell_type": "code",
   "execution_count": null,
   "metadata": {
    "id": "RHU408GjTAvY"
   },
   "outputs": [],
   "source": [
    "from transformers import AutoProcessor, LayoutLMv3ForTokenClassification, set_seed\n",
    "from PIL import Image,ImageDraw, ImageFont\n",
    "from datasets import load_dataset\n",
    "import torch\n",
    "import pandas as pd\n",
    "import evaluate\n",
    "device = torch.device(\"cuda\" if torch.cuda.is_available() else \"cpu\")\n",
    "\n",
    "set_seed(0)"
   ]
  },
  {
   "cell_type": "markdown",
   "metadata": {
    "id": "3xzTCjwGeayh"
   },
   "source": [
    "## Data"
   ]
  },
  {
   "cell_type": "code",
   "execution_count": null,
   "metadata": {
    "colab": {
     "base_uri": "https://localhost:8080/"
    },
    "id": "3HXn8fVkCH72",
    "outputId": "1730fd24-a250-4939-dda1-acbce377c665"
   },
   "outputs": [],
   "source": [
    "funsd = load_dataset(\"nielsr/funsd\", trust_remote_code=True)\n",
    "labels = funsd[\"train\"].features[\"ner_tags\"].feature.names\n",
    "id2label = {v: k for v, k in enumerate(labels)}\n",
    "label2id = {v: k for k, v in enumerate(labels)}\n",
    "print(id2label)\n",
    "print(label2id)"
   ]
  },
  {
   "cell_type": "code",
   "execution_count": null,
   "metadata": {
    "colab": {
     "base_uri": "https://localhost:8080/",
     "height": 177,
     "referenced_widgets": [
      "7ee0a731bccf47ff8304237583eb0a13",
      "8f8134ad976f41d4852c88610fcd90d4",
      "f68bb14bbd624d26bfdef1a8b4c0f9cb",
      "268e2d266d694a5c883bc5e642c01952",
      "f1dc1adc74cc4025a1ead961123c1810",
      "b6e3a40a8d46468c9338751afd5a3b1e",
      "e327ee84e4f645c89a565b7aa8732c44",
      "9ade1da4fa2044df833095072103e4b6",
      "c5a0ebd5df9b4a74b512e2ec33946eb1",
      "091bb985b35e42e09350800472e755e9",
      "2e8c75ea4d9f49eca8cc86770728537e",
      "04dd73a852674d95b18df1c308184b31",
      "d23a5dbebeb7411898b0d09911a7740b",
      "553821f0a72c478181dd1e216ee3eb2e",
      "df3affb527564e6a8c12ce584d2e0af5",
      "cb054d8379dd497eb73e0c31b60a6879",
      "b29904e986794f7ebaec86d7ac9e1234",
      "9051fac035bf4f40a0df64ee7a59990e",
      "0ecea6eb819c4d08b4e7a538b3b86a82",
      "d49251fe002c4c8aa5c0db7da95e3cd3",
      "9fdac2748ed24534b78fc056255c6872",
      "76e58e8d5b2647d7980f8c3494773c18",
      "abbbc45903dc4f268688fd768547014f",
      "aecb510aa5ad46f5bbc51bcd06e96401",
      "db123a2e46be4c75a25f16a683dbca41",
      "84a1cae2fffb40268854d43557369637",
      "6ee82b8e897747d7be0b529c7f90f136",
      "49f3f00d03d449b392fd791fa90c5bac",
      "d0741e6248ae42cc93772d64442e0d40",
      "2947124443fd4dbdaacc4cee070bfaef",
      "ce959e3238864071aeeac9baa71985c8",
      "64be95fdd5f24d9eb47867b268743e36",
      "66e38bfc3a9e42efb56ff93c08378cdb",
      "337e6400a4ad408b81470af9a8c984cd",
      "e740a02b4f2249de9f9e07fd35f0e1c0",
      "07ca38014f314cdc94c3de2012c7d395",
      "4540aed385ee4ee59fbbd649144a2561",
      "a746044a5b13463c96aa3efae8ccdac1",
      "fff034deba6a4dbf8abbc67cca48f014",
      "ad21b365d7694d3694ffb15f7bc567d8",
      "eda4b5a1e831483f98290c6de4f19865",
      "28367cc610d343028696cea3e2a8213d",
      "f9d3318ed609463d8147119b10c812d1",
      "13d0430bab63430f94e3446386bd03ee",
      "13a0d9aaa5fa40a296010a3bec1bffa6",
      "07639e8d2c1d43ee9632db529e4d3f7f",
      "7e4e5a4261c54c6eb1af7c3147731995",
      "f0f5b6e43647419bb91ba73d1c1c46f4",
      "78b5c14bfbf74fa6a486c82593886cb6",
      "17337115cba74b6291ad769268bf5801",
      "78d6d05d7c6f4769b0d942a0fa1cf325",
      "0b1688a7581f4efd9febfa0a4c9c5a3d",
      "a9cb47288c0441d2b2f2de0a6e1038e0",
      "bc4eac5abae34de58bd72b15c1e92a7c",
      "d2870354db8b4d1780b1f125fc20e9b9"
     ]
    },
    "id": "wvJIlq1LC4cu",
    "outputId": "1dcb8d8d-ff10-4dd6-ee09-5a40245b8ac2"
   },
   "outputs": [],
   "source": [
    "processor = AutoProcessor.from_pretrained(\"microsoft/layoutlmv3-base\", apply_ocr=False)"
   ]
  },
  {
   "cell_type": "code",
   "execution_count": null,
   "metadata": {
    "id": "x3iGYrrlepDN"
   },
   "outputs": [],
   "source": [
    "def encode(example):\n",
    "  images = [Image.open(path).convert(\"RGB\") for path in example[\"image_path\"]]\n",
    "  words = example[\"words\"]\n",
    "  boxes = example[\"bboxes\"]\n",
    "  labels = example[\"ner_tags\"]\n",
    "  encoding = processor(images,\n",
    "                       words,\n",
    "                       boxes=boxes,\n",
    "                       word_labels=labels,\n",
    "                       padding=\"max_length\",\n",
    "                       truncation=True,\n",
    "                       return_tensors=\"pt\")\n",
    "  return encoding"
   ]
  },
  {
   "cell_type": "code",
   "execution_count": null,
   "metadata": {
    "colab": {
     "base_uri": "https://localhost:8080/",
     "height": 81,
     "referenced_widgets": [
      "7397a0aed9564e2780feabab947ccc77",
      "f09b1c290443447c83aa5838852a7ecc",
      "a50973ca2c944ace8daadf4bd154a28b",
      "ff69587bdfd546ecb4a8f00818131668",
      "dcde23d872854426a5dd0450a8da9129",
      "c71e776e12ce4a2daec26377ec3d8561",
      "5520cdfb196e4bb88b1d36a9b99691c5",
      "0986f4195f0d4b659ae3610f4542a8f1",
      "33a2770eeeea4999b44537f3377b1fb0",
      "8eb6427e1c22422685a08674a992edc4",
      "1ca874c186a446c59f97079524a5441e",
      "951ead6f812a44b9a20954a0e898468a",
      "088c1ecfe5454c58a4ba1c78f46bfb01",
      "0f5015326f9145e3b6831e21b8357df2",
      "3bb776c0dbfa4c06a12a31ea8fbfeb0e",
      "a0891e0d241b463eb1c75c6176ba392d",
      "b60989225845490597d360cf04a7bb70",
      "6d7b2dc1eb1f40f8818a1c7d51c5a576",
      "e681f306f4ef4958b1fac03bbbeb31db",
      "855542ac15804d9f959286ff7d5d607b",
      "b20df306bea54d5a8d07935f9e60f3fb",
      "5266acf1bf7843acb49265cde2f14885"
     ]
    },
    "id": "5CvQNq-QFCf6",
    "outputId": "f77d4424-68c4-4adb-9c4f-b11cc5c28618"
   },
   "outputs": [],
   "source": [
    "train_dataset = funsd[\"train\"].map(encode, batched=True, remove_columns=funsd[\"train\"].column_names)\n",
    "val_dataset = funsd[\"test\"].map(encode, batched=True, remove_columns=funsd[\"train\"].column_names)"
   ]
  },
  {
   "cell_type": "markdown",
   "metadata": {
    "id": "xMfBLS7DJRc4"
   },
   "source": [
    "## Finetuning"
   ]
  },
  {
   "cell_type": "code",
   "execution_count": null,
   "metadata": {
    "id": "Df6ArY3RJZeG"
   },
   "outputs": [],
   "source": [
    "metric = evaluate.load(\"seqeval\")\n",
    "import numpy as np\n",
    "def compute_metrics(p):\n",
    "  predictions, labels = p\n",
    "  predictions = np.argmax(predictions, axis=2)\n",
    "\n",
    "  true_preds = [\n",
    "      [id2label[p] for (p, l) in zip(prediction, label) if l != -100]\n",
    "      for prediction, label in zip(predictions, labels)\n",
    "  ]\n",
    "  true_labels = [\n",
    "      [id2label[l] for (p, l) in zip(prediction, label) if l != -100]\n",
    "      for prediction, label in zip(predictions, labels)\n",
    "  ]\n",
    "  results = metric.compute(predictions=true_preds, references=true_labels)\n",
    "\n",
    "  return {\n",
    "      \"precision\": results[\"overall_precision\"],\n",
    "      \"recall\": results[\"overall_recall\"],\n",
    "      \"f1\": results[\"overall_f1\"],\n",
    "      \"accuracy\": results[\"overall_accuracy\"],\n",
    "  }"
   ]
  },
  {
   "cell_type": "code",
   "execution_count": null,
   "metadata": {
    "colab": {
     "base_uri": "https://localhost:8080/",
     "height": 17,
     "referenced_widgets": [
      "bea333f04afe4230a679973e4f5f5cb8",
      "0857b39f46a04a9c98794fb3f0c845bb",
      "834923243b4848509f5de458ad1ecdaa",
      "99ac6b7304f24c32ac7c528242cacd54",
      "40a1c3c88afd4c9aa8f40776800f2adc",
      "b82cc48595cb412aabab301badd4714f",
      "c175fe27ffa6440693c54539451d122e",
      "72052ff1c99243e997a32116e16f06ab",
      "953ac12d185e4f51a16d01411329dbcb",
      "76c73ad51b194b7a9366e5259c5bc0cc",
      "cadbc72a99ca4a1b9e91c190b3394425",
      "83335af2968c4d8b91a3c830b4306f01",
      "ed8ceb5774634e8787f2308df651da7c",
      "f606515180594f81b751a31770b685bf",
      "dd1335c2cfe0430eae9e3ee5b49dab9f",
      "a6e786d0811e46c89e87623ee3e1b776",
      "9e1028990e2c46029331e1269179cf68",
      "3f270602f619449ba471c0b44cfaa2c8",
      "0cf167cb07d143049cdfbd01b09a1cf5",
      "777384b88e4748959f6acd0d9f12a524"
     ]
    },
    "id": "aDP_eiwlQmcM",
    "outputId": "e6eeea0f-14ae-492f-e78d-ac07cb8d2323"
   },
   "outputs": [],
   "source": [
    "from huggingface_hub import login\n",
    "login()"
   ]
  },
  {
   "cell_type": "code",
   "execution_count": null,
   "metadata": {
    "colab": {
     "base_uri": "https://localhost:8080/",
     "height": 563
    },
    "id": "-G8Ujd_7JmHb",
    "outputId": "ed43fb27-2d00-45d0-9dbc-c902c32e55cc"
   },
   "outputs": [],
   "source": [
    "from transformers import TrainingArguments, Trainer\n",
    "output_dir = \"./layoutlmv3-finetuned-funsd\"\n",
    "model = LayoutLMv3ForTokenClassification.from_pretrained(\"microsoft/layoutlmv3-base\", num_labels=len(labels), id2label=id2label, label2id=label2id)\n",
    "training_args = TrainingArguments(\n",
    "    output_dir=output_dir,\n",
    "    max_steps=1000,\n",
    "    learning_rate=1e-5,\n",
    "    per_device_train_batch_size=16,\n",
    "    per_device_eval_batch_size=16,\n",
    "    eval_strategy=\"steps\",\n",
    "    seed=42,\n",
    "    optim=\"adamw_torch\",\n",
    "    adam_beta1=0.9,\n",
    "    adam_beta2=0.999,\n",
    "    adam_epsilon=1e-08,\n",
    "    lr_scheduler_type=\"linear\",\n",
    "    eval_steps=100,\n",
    "    load_best_model_at_end=True,\n",
    "    metric_for_best_model=\"eval_f1\"\n",
    ")\n",
    "\n",
    "trainer = Trainer(\n",
    "    model=model,\n",
    "    args=training_args,\n",
    "    train_dataset=train_dataset,\n",
    "    eval_dataset=val_dataset,\n",
    "    tokenizer=processor,\n",
    "    compute_metrics=compute_metrics,\n",
    ")\n",
    "\n",
    "trainer.train()"
   ]
  },
  {
   "cell_type": "code",
   "execution_count": null,
   "metadata": {
    "colab": {
     "base_uri": "https://localhost:8080/",
     "height": 293,
     "referenced_widgets": [
      "36f3c06f7be2444688330309afc16d75",
      "18c54d32e8c242f296c7893a7b6e89f3",
      "740da8f90d1e46789d5c1a4327973071",
      "369afc8819b5436e9182cc0ea83b4861",
      "5e0aa9e431ca413ab20e2b8ceba05e75",
      "51f3ec476d5c48aaae639eda0f7f2c18",
      "f1d6967a9c2947d78d432db63505f611",
      "881d7ca628674f0b99707a632d639688",
      "c6f40fae85eb46708e44723c37ef39bb",
      "e559c825c70c4a819773e4348fd902a6",
      "ad3434ca8ca44f148c52482b219443e7",
      "2fada96bd5c84656934a03e846a6b4dc",
      "91e0dc19f5db4d1d960d1d888fa5377b",
      "8818f08d71c243559629349f0f0fc115",
      "a509a44e420749ba9ff9add02462201a",
      "295283bfa3e44d21921e09ed1aecb652",
      "3be8918fa3454f489bb706088eae4739",
      "ff5847c4e5334f889db704aaa5d50311",
      "7fa41eb8832c427f994ed0f7861b1d44",
      "5b147bb71c91494a9507b0725622dfdb",
      "09d653d193424ff7af2049b24d48cefd",
      "432c75244af1479d943d8b0a05648d0c",
      "0c7a2269c52846afa7803d63df37681a",
      "2f6673d64ea54eb3a3f1be3d00dc89b3",
      "82d9ed8de3694cebb0c64b8e5da86a7d",
      "8105c5c2556c47e68fa24ffcbca051ad",
      "2cc897087da5423d9241ad75022e5167",
      "6cb9e0dfe1c04fb489f7cc4355124453",
      "5f8dfb2667364d38bc5318432041d067",
      "df611fa3a55744dcb216dc43f50568b2",
      "9c5d13a48418453d8c7a36927eb5ca50",
      "468a0ceee8254f31956533fcfed724ed",
      "c214315637b14310a347bf90da4cede6",
      "ad91b853bc864e5bbd0daa2972ff3179",
      "244522b681384609a6c5edbbe1e753a0",
      "3a97da63134f48c99804b53eee1260a3",
      "3ec2c25c4f4b47ae9b984708ca1d21ec",
      "019055f50c6f4022a6714dc5d8774f71",
      "ecbde56f80a448c6b1633eb584c0369d",
      "f7460abdd8de43adade796230ec90fad",
      "ff25f8b0cadc4ad79b678297e6f86e84",
      "ee0f37001658433b9eae75f944554895",
      "095017f874984581aa96ee4ec0313ddb",
      "810beb3ab0ad4cb5a0d008159d93ffcc",
      "b16e1984a3b142cdb24e25c4a31f7a5d",
      "d229b7c6f67a4a8a997f943540302a32",
      "5ad1adfda145495eabadd971e02e96f7",
      "d3baf8e1576e447ba4044159935de550",
      "d854a42be7604475a9bd4db8432b2519",
      "a2a8b478788a4b218a79991592173317",
      "2d3ef4ba13534a7095396caab102113f",
      "22aaa638178d4f6095c9a91969e9bf45",
      "d0087162b27643d1af530a60ec75d10d",
      "440c74617b614fcead9474ad46121cec",
      "2709ec0533d64e698aa52fedb086907d",
      "f8075f06eb414169a8ab33021b5c3773",
      "a45e95256aae42e4955369d6abcf6e7a",
      "80cfae1f03054df591a28d0140a75417",
      "49ea29df96164b578d32e309ab50a328",
      "87ebc51c5d6341b6bc41bff06de71cdb",
      "9574e0df58354deb87cb9f0ab758cd9f",
      "00e0457aaa464a1c8bb00d671a946ad6",
      "921d9865fc694e37af7bdca04df83e35",
      "b5f256f762b240f8a24b91ac417e8a71",
      "07ce15bdb3684c65a536f9335c16b3bc",
      "849e66f1871b4313ae67a7b1ab93546a",
      "cdf9a87e46ca472696f5af57351bf6a2",
      "84acf6f1554a40178a18d973dee7e3d0",
      "2174babf7f51453f94fd9a662d0f54d5",
      "80b7f402771f4a3a9fd2c69c7dfdf422",
      "ef5c6ce7f9f441359d429da81b73ef48",
      "ecb7d8debbaa407ab1f0addfdadbe156",
      "30c9328833994f96b07a964fb0023429",
      "76b08bf3cc864cf29e17412485b60208",
      "4db72f075f564908bd851eb4dd30aefd",
      "862174dd6ca34059b8a81876068110a5",
      "b4597471d01e472b8febe5e85acd63c4"
     ]
    },
    "id": "uCuC1nhJRaZ7",
    "outputId": "6c85a8d8-5830-4251-fc48-9e7c27c3315e"
   },
   "outputs": [],
   "source": [
    "'''\n",
    "Model available on huggingface hub: https://huggingface.co/adamadam111/layoutlmv3-finetuned-funsd\n",
    "'''"
   ]
  },
  {
   "cell_type": "markdown",
   "metadata": {
    "id": "hCrbOfR6epxA"
   },
   "source": [
    "## Inference\n",
    "Simple inference step for show"
   ]
  },
  {
   "cell_type": "code",
   "execution_count": null,
   "metadata": {
    "id": "fwajxl5wepFQ"
   },
   "outputs": [],
   "source": [
    "model = LayoutLMv3ForTokenClassification.from_pretrained(\"adamadam111/layoutlmv3-finetuned-funsd\")\n",
    "processor = AutoProcessor.from_pretrained(\"adamadam111/layoutlmv3-finetuned-funsd\")"
   ]
  },
  {
   "cell_type": "code",
   "execution_count": null,
   "metadata": {
    "colab": {
     "base_uri": "https://localhost:8080/"
    },
    "id": "bHPPmF69goE0",
    "outputId": "6f350b06-b531-4afd-9090-ad942384e08b"
   },
   "outputs": [],
   "source": [
    "sample = funsd[\"test\"][0]\n",
    "image = Image.open(sample[\"image_path\"]).convert(\"RGB\")\n",
    "encode_sample = processor(image, sample[\"words\"], boxes=sample[\"bboxes\"], word_labels=sample['ner_tags'], padding='max_length', return_tensors=\"pt\")\n",
    "outputs = model(**encode_sample)"
   ]
  },
  {
   "cell_type": "code",
   "execution_count": null,
   "metadata": {
    "id": "4Ymb_F17jiag"
   },
   "outputs": [],
   "source": [
    "def unnormalize_box(bbox, width, height):\n",
    "     return [\n",
    "         width * (bbox[0] / 1000),\n",
    "         height * (bbox[1] / 1000),\n",
    "         width * (bbox[2] / 1000),\n",
    "         height * (bbox[3] / 1000),\n",
    "     ]"
   ]
  },
  {
   "cell_type": "code",
   "execution_count": null,
   "metadata": {
    "id": "UJQN43-5ijDy"
   },
   "outputs": [],
   "source": [
    "preds = outputs.logits.argmax(-1).squeeze().tolist()\n",
    "token_boxes = encode_sample.bbox.squeeze().tolist()\n",
    "\n",
    "width, height = image.size\n",
    "\n",
    "true_preds = [id2label[pred] for pred in preds if pred != -100]\n",
    "true_boxes = [unnormalize_box(box, width, height) for box in token_boxes if box[0] != -100]"
   ]
  },
  {
   "cell_type": "code",
   "execution_count": null,
   "metadata": {
    "colab": {
     "base_uri": "https://localhost:8080/",
     "height": 1000
    },
    "id": "1UR_A8NKjYcE",
    "outputId": "a54cd1b8-1b1a-4874-f7e6-680fcb2ab747"
   },
   "outputs": [],
   "source": [
    "draw = ImageDraw.Draw(image)\n",
    "font = ImageFont.load_default()\n",
    "\n",
    "def iob_to_label(label):\n",
    "  label = label[2:]\n",
    "  if not label:\n",
    "    return 'other'\n",
    "  return label\n",
    "\n",
    "label2color = {'question':'blue', 'answer':'green', 'header':'orange', 'other':'violet'}\n",
    "\n",
    "for prediction, box in zip(true_preds, true_boxes):\n",
    "    predicted_label = iob_to_label(prediction).lower()\n",
    "    draw.rectangle(box, outline=label2color[predicted_label])\n",
    "    draw.text(\n",
    "        (box[0]+10, box[1]-10), text=predicted_label, fill=label2color[predicted_label], font=font\n",
    "    )\n",
    "\n",
    "image"
   ]
  }
 ],
 "metadata": {
  "accelerator": "GPU",
  "colab": {
   "authorship_tag": "ABX9TyN41TjtE9qr7fU6y0IwKmPP",
   "gpuType": "T4",
   "include_colab_link": true,
   "machine_shape": "hm",
   "provenance": []
  },
  "kernelspec": {
   "display_name": "Python 3",
   "name": "python3"
  },
  "language_info": {
   "name": "python"
  }
 },
 "nbformat": 4,
 "nbformat_minor": 0
}
