{
 "cells": [
  {
   "cell_type": "markdown",
   "metadata": {
    "colab_type": "text",
    "id": "view-in-github"
   },
   "source": [
    "<a href=\"https://colab.research.google.com/github/adamserag1/Interpretability-for-VRDU-models/blob/main/finetuning/BROS.ipynb\" target=\"_parent\"><img src=\"https://colab.research.google.com/assets/colab-badge.svg\" alt=\"Open In Colab\"/></a>"
   ]
  },
  {
   "cell_type": "markdown",
   "metadata": {
    "id": "x6oO5GrazHGl"
   },
   "source": [
    "# BROS"
   ]
  },
  {
   "cell_type": "markdown",
   "metadata": {
    "id": "VfbgMLZpC1TP"
   },
   "source": [
    "## Imports etc."
   ]
  },
  {
   "cell_type": "code",
   "execution_count": null,
   "metadata": {
    "colab": {
     "base_uri": "https://localhost:8080/"
    },
    "id": "iY8FgAeQQbr_",
    "outputId": "ac09a744-8b1c-4530-e6ea-0bfa2f266d69"
   },
   "outputs": [],
   "source": [
    "# UNCOMMNET FOR USE IN COLAB\n",
    "!git clone https://github.com/adamserag1/Interpretability-for-VRDU-models.git"
   ]
  },
  {
   "cell_type": "code",
   "execution_count": null,
   "metadata": {
    "colab": {
     "base_uri": "https://localhost:8080/"
    },
    "id": "GGmKcDjIiI10",
    "outputId": "7dbfb9f7-1797-4e9f-d780-ec1385fe6c96"
   },
   "outputs": [],
   "source": [
    "!pip install transformers torch datasets evaluate seqeval"
   ]
  },
  {
   "cell_type": "code",
   "execution_count": null,
   "metadata": {
    "id": "_DWpS9kEgnAL"
   },
   "outputs": [],
   "source": [
    "import torch\n",
    "from PIL import Image,ImageDraw, ImageFont\n",
    "from datasets import load_dataset\n",
    "import pandas as pd\n",
    "import evaluate\n",
    "from transformers import BrosProcessor, BrosSpadeEEForTokenClassification, AutoTokenizer"
   ]
  },
  {
   "cell_type": "markdown",
   "metadata": {
    "id": "P7fbVaydjSD_"
   },
   "source": [
    "## Data"
   ]
  },
  {
   "cell_type": "code",
   "execution_count": null,
   "metadata": {
    "colab": {
     "base_uri": "https://localhost:8080/",
     "height": 321,
     "referenced_widgets": [
      "3776022e6c5d4667b2a294d54578b31d",
      "50752a273680460a8135fd422ce386d0",
      "261f9e8880f64bd7b31f20aa5fc83953",
      "17dcce58d28d436eb048d10fa0a6a410",
      "fc3e130d8a8243a89b5afe05f51d697b",
      "2db35ac7ea7645398da26517795480d7",
      "dbb80b085599466fa0d6838cea29f80f",
      "034f3888d03748bfb18860a3fddeb7c0",
      "7f1ab19014884519a8a50f4069f2e42b",
      "ac8fbdf29d904991a7caa83f23c7954b",
      "a034a84dca7545af97b4c4f1a31f8354",
      "eb2fd76ec5f84d6db7705f88072cd175",
      "f42d2de693b84d319f2c631c28b3b2e7",
      "6c9a27fab6a04c398f28fc731d09b19d",
      "a6649ddb271e412b82016867bb9e2e0a",
      "dfef2f2ec945494981c5af041f84e479",
      "783e6253a01e4458aeca8bf659230fce",
      "63d52f86b7e244c3a9f860a13e92c8a1",
      "55fe2e1b3428467986a7f5873abda77d",
      "844241abe0ca4c5b882a88e600771085",
      "ed497f5b5e0e44d3a020bcafef52d6ba",
      "091daa2fa45444acae5a8396f486b1ca",
      "519d2668ded64901b45f9a4ebd29f405",
      "63a75f3caa8e415b8d870ee9e8c3eb21",
      "c30e3dff4dad4d288cbbcd178de8f382",
      "3440fd5d9b544e5a8c9c1562cba0d535",
      "7c6e41bf97f34f899d6d5d0d6088f19f",
      "b775cf296e7f46168838d71d0a581c2a",
      "4369bd5e72ad4f40a3da46ed386c1918",
      "a1d2a80402d94a50af26aaadc3b71ec0",
      "23f9896d977841999e2ccd090fe20dd3",
      "aac6489acaaa47a5b14b4ac91e96819b",
      "c6e46367f7bf45e793e52e72390541ff",
      "a0608b2ffffd4762b42042598f8d8545",
      "c72395c41fd14814b9017985dafa2f96",
      "5340ca6a0d1e477c8bfb04c590d8a22f",
      "ea2a9a3d7a6846e6a673a051e75108b2",
      "67917462caa64854b222e848f1baa7c8",
      "da20cdc18273401c9c53ba840168d455",
      "957eda156a6a4dbd8f4d4f3e7f17631f",
      "f2c8298a3e29465cbb92f5f38b706730",
      "9182947bda9749419e3f2e7c8f028553",
      "318f12fd86fb450dba86a111ff782a70",
      "fbd73a7c75c14fa094471d0b22148c8a"
     ]
    },
    "id": "N_CY8S5YjBdR",
    "outputId": "07f40ef8-94a9-48d9-ab10-03e40c4bdfd8"
   },
   "outputs": [],
   "source": [
    "funsd = load_dataset(\"nielsr/funsd\", trust_remote_code=True)\n",
    "label_list = funsd[\"train\"].features[\"ner_tags\"].feature.names\n",
    "id2label = {v:k for v,k in enumerate(label_list)}\n",
    "label2id = {k:v for v,k in enumerate(label_list)}\n",
    "\n",
    "print(funsd[\"train\"][\"words\"][0])\n",
    "print(funsd[\"train\"][\"ner_tags\"][0])\n",
    "id_0_ner_tags = [id2label[id] for id in funsd[\"train\"][\"ner_tags\"][0]]\n",
    "print(id_0_ner_tags)"
   ]
  },
  {
   "cell_type": "code",
   "execution_count": null,
   "metadata": {
    "colab": {
     "base_uri": "https://localhost:8080/",
     "height": 81,
     "referenced_widgets": [
      "27cd9c89da864c20a1fb27bbaa9b6231",
      "ffa64a106ec04c3eb89adf483db1e40a",
      "2be8ad6d925d410f8701b0ef438beb46",
      "b5d5aebd3e044558a482b7a701b510c4",
      "e0487cfcb3f340b786b20b54ce1d37a9",
      "8b03273a63464b0989a402035cd1c5b5",
      "67184e646b2f42d9afea5f36bfddc8a5",
      "6905beb570a94784a8859f8881a3d3ff",
      "a1877dab17a34cac806f65ea250f28f7",
      "a871b4db0d2f46d18713584b6e9a45dc",
      "aa663e8f7be74c3f8847e1401e965a6f",
      "59d2fbcbf1c440fcbde9578999794253",
      "c8997e5097854543a4a5f78e1dba26b5",
      "42200679d90646a2b9fb170b60450547",
      "83c4686a343d4fccaa159e83c8fdad9d",
      "86b318dcfd3e42fb91b9e0a792f20adf",
      "c220347462d047ccb8c05e453c61bd04",
      "74dace7c3be94e4daf15a346990905b3",
      "81334e5a110e4ddeaae2d141b1255b9e",
      "b1200b33777f406e8b35cd5f67218be3",
      "32014c423df14b558a4c7fbfb178a8d6",
      "4b3af840a0da4d86a96e77bc9b3eaa05"
     ]
    },
    "id": "crnnZdKMjfxL",
    "outputId": "96ecff0c-b0b3-4406-cddd-9facf16a14d6"
   },
   "outputs": [],
   "source": [
    "processor = BrosProcessor.from_pretrained(\"naver-clova-ocr/bros-base-uncased\")\n",
    "tokenizer = AutoTokenizer.from_pretrained(\"naver-clova-ocr/bros-base-uncased\",do_lower_case=True)"
   ]
  },
  {
   "cell_type": "code",
   "execution_count": null,
   "metadata": {
    "colab": {
     "base_uri": "https://localhost:8080/"
    },
    "id": "VN69ZH_EoOYg",
    "outputId": "20914719-0a11-4d77-bb29-faa34cd638f9"
   },
   "outputs": [],
   "source": [
    "sample = funsd[\"train\"][66]\n",
    "image = Image.open(sample[\"image_path\"]).convert(\"RGB\")\n",
    "print(sample['words'])"
   ]
  },
  {
   "cell_type": "code",
   "execution_count": null,
   "metadata": {
    "id": "SiVfoewpjty_"
   },
   "outputs": [],
   "source": [
    "def normalize_bbox(bbox, width, height):\n",
    "    return [\n",
    "        int(1000 * (bbox[0] / width)),\n",
    "        int(1000 * (bbox[1] / height)),\n",
    "        int(1000 * (bbox[2] / width)),\n",
    "        int(1000 * (bbox[3] / height)),\n",
    "    ]\n",
    "\n",
    "def tokenize_words(batch):\n",
    "  encodings = tokenizer(\n",
    "    batch[\"words\"],\n",
    "    is_split_into_words=True,\n",
    "    truncation=True,\n",
    "    padding=\"max_length\",\n",
    "    max_length=512,\n",
    "    return_tensors=\"pt\"\n",
    "  )\n",
    "\n",
    "  batch_normalized_bboxes, encoded_labels = [], []\n",
    "  for idx, (bboxes, img_path, labels) in enumerate(zip(batch[\"bboxes\"], batch[\"image_path\"], batch[\"ner_tags\"])):\n",
    "    width, height = Image.open(img_path).size\n",
    "    normalized_bboxes = [normalize_bbox(bbox, width, height) for bbox in bboxes]\n",
    "\n",
    "    # Align boxes to sub words\n",
    "    aligned_boxes, aligned_labels = [], []\n",
    "    for word_id in encodings.word_ids(batch_index=idx):\n",
    "      if word_id is None:\n",
    "        aligned_boxes.append([0, 0, 0, 0])\n",
    "        aligned_labels.append(-100)\n",
    "      else:\n",
    "        aligned_boxes.append(normalized_bboxes[word_id])\n",
    "        aligned_labels.append(labels[word_id])\n",
    "\n",
    "    batch_normalized_bboxes.append(aligned_boxes)\n",
    "    encoded_labels.append(aligned_labels)\n",
    "\n",
    "  encodings['bbox'] = batch_normalized_bboxes\n",
    "  encodings['labels'] = encoded_labels\n",
    "\n",
    "  return encodings"
   ]
  },
  {
   "cell_type": "code",
   "execution_count": null,
   "metadata": {
    "colab": {
     "base_uri": "https://localhost:8080/",
     "height": 81,
     "referenced_widgets": [
      "cf10812f72f34690917d4d02afdc8b72",
      "c2b7f8ee936c4c4587d8de69dd705ec0",
      "5f7cf2c099964acfae1d9570b685917f",
      "f0597797f53f4419a53b326700b78e08",
      "fccd865c15cc4d2dbcae668ae4be2233",
      "fb244ab7d2f4496f81ee0a57d41977f0",
      "bbb49043d8c74c5fb6975db72a13c6c5",
      "b039337f714f431280ceae71a7f0adaa",
      "861578cc5dbf4fd4aef23389dbd81c11",
      "dd0bf3cb196f45b9a900b6dd87c20894",
      "a218638592e0418dbd72eeccac0c9492",
      "ef41ddbb3874427488b6fa0d1c319373",
      "a45454dfb7f0411999b1b03bfc5b5448",
      "f1643226d09542478cecfb076d053117",
      "953ec7b8710642a984fdd74294563b3b",
      "14771c874c0e49a38c5af70a0f32d936",
      "67eb96c889b0417194392b736617bd28",
      "d869bfff90b44b7c897034e97e6c7b80",
      "3f792a933ca4427b83ff358fb6376e6d",
      "1ba8a0b5099646599d165228bd8a4435",
      "47c36f8ed000434c88f835a3099ae8e5",
      "3600e348187d44cc94ca9e72d54a395f"
     ]
    },
    "id": "0qYsrVvPjq7-",
    "outputId": "afe3ffce-9ab3-416b-f08a-2ab3481d5ceb"
   },
   "outputs": [],
   "source": [
    "train_dataset = funsd[\"train\"].map(tokenize_words, batched=True, remove_columns=funsd[\"train\"].column_names)\n",
    "val_dataset = funsd[\"test\"].map(tokenize_words, batched=True, remove_columns=funsd[\"train\"].column_names)\n",
    "\n",
    "train_dataset.set_format(\"torch\")\n",
    "val_dataset.set_format(\"torch\")"
   ]
  },
  {
   "cell_type": "markdown",
   "metadata": {
    "id": "WJuNuCznhin-"
   },
   "source": [
    "## Finetuning"
   ]
  },
  {
   "cell_type": "code",
   "execution_count": null,
   "metadata": {
    "colab": {
     "base_uri": "https://localhost:8080/"
    },
    "id": "eDGN3ZlNh9y_",
    "outputId": "57c70dd3-846e-4176-a8e5-4b60195e57d7"
   },
   "outputs": [],
   "source": [
    "from transformers import AutoModelForTokenClassification, BrosForTokenClassification\n",
    "model = BrosForTokenClassification.from_pretrained(\"naver-clova-ocr/bros-base-uncased\", num_labels=len(label_list), id2label=id2label, label2id=label2id)\n",
    "device = torch.device(\"cuda\" if torch.cuda.is_available() else \"cpu\")\n",
    "model.to(device)"
   ]
  },
  {
   "cell_type": "code",
   "execution_count": null,
   "metadata": {
    "id": "3saGKSU9K3As"
   },
   "outputs": [],
   "source": [
    "from transformers import TrainingArguments, Trainer, DefaultDataCollator\n",
    "training_args = TrainingArguments(\n",
    "    output_dir=\"./bros-funsd-finetuned\",\n",
    "    eval_strategy=\"epoch\",\n",
    "    learning_rate=5e-5,\n",
    "    per_device_train_batch_size=16,\n",
    "    per_device_eval_batch_size=16,\n",
    "    num_train_epochs=100,\n",
    "    weight_decay=0.01,\n",
    "    save_strategy=\"epoch\",\n",
    "    load_best_model_at_end=True,\n",
    "    push_to_hub=False,\n",
    "    metric_for_best_model=\"eval_f1\",\n",
    ")\n",
    "\n",
    "# Data collator\n",
    "data_collator = DefaultDataCollator(return_tensors=\"pt\")"
   ]
  },
  {
   "cell_type": "code",
   "execution_count": null,
   "metadata": {
    "id": "CVEEjNq9LOcW"
   },
   "outputs": [],
   "source": [
    "metric = evaluate.load(\"seqeval\")\n",
    "import numpy as np\n",
    "def compute_metrics(p):\n",
    "  predictions, labels = p\n",
    "  predictions = np.argmax(predictions, axis=-1)\n",
    "\n",
    "  true_preds = [\n",
    "      [id2label[p] for (p, l) in zip(prediction, label) if l != -100]\n",
    "      for prediction, label in zip(predictions, labels)\n",
    "  ]\n",
    "  true_labels = [\n",
    "      [id2label[l] for (p, l) in zip(prediction, label) if l != -100]\n",
    "      for prediction, label in zip(predictions, labels)\n",
    "  ]\n",
    "  results = metric.compute(predictions=true_preds, references=true_labels)\n",
    "\n",
    "  return {\n",
    "      \"precision\": results[\"overall_precision\"],\n",
    "      \"recall\": results[\"overall_recall\"],\n",
    "      \"f1\": results[\"overall_f1\"],\n",
    "      \"accuracy\": results[\"overall_accuracy\"],\n",
    "  }"
   ]
  },
  {
   "cell_type": "code",
   "execution_count": null,
   "metadata": {
    "id": "zjr9NYCQsMhj"
   },
   "outputs": [],
   "source": [
    "from transformers import EarlyStoppingCallback\n",
    "early_stop = EarlyStoppingCallback(\n",
    "    early_stopping_patience   = 5,\n",
    "    early_stopping_threshold  = 0.0,\n",
    ")"
   ]
  },
  {
   "cell_type": "code",
   "execution_count": null,
   "metadata": {
    "id": "I42483cuLnsR"
   },
   "outputs": [],
   "source": [
    "trainer = Trainer(\n",
    "    model=model,\n",
    "    args=training_args,\n",
    "    train_dataset=train_dataset,\n",
    "    eval_dataset=val_dataset,\n",
    "    data_collator=data_collator,\n",
    "    processing_class=tokenizer,\n",
    "    compute_metrics=compute_metrics,\n",
    ")\n",
    "\n",
    "trainer.train()"
   ]
  },
  {
   "cell_type": "code",
   "execution_count": null,
   "metadata": {
    "colab": {
     "base_uri": "https://localhost:8080/",
     "height": 264,
     "referenced_widgets": [
      "36612e14186940028fb8e9ba2a881974",
      "36dfb9930b4640bdb9bb3e208d1df475",
      "7b1f0d073fae410fadad3e322223cfb9",
      "9faa90d3f03d472d85a31b95cf52d4a7",
      "56c4968c01e047c4962028bdaf07fc5a",
      "02207df1d3334be691a19c4f95b7c9cc",
      "93f4aa09825246dc81c3a9376eefe438",
      "717ce5171e5e4070ab0759a74bbddf5a",
      "8edc708e6dd84109b72dcacb8ed7c278",
      "ee926885e3c14fcf9449387ef0cd7b69",
      "b139e1d41e654c2195ab0e7b862677ca",
      "2a3a67aabc4643b4b3aa9d304bffd5d7",
      "771abbb859214f98b722de21ee99a84b",
      "0b66c0e0279c4ac18e7bd860fd6ada7e",
      "206467d58e364787b5a5c38801badd0d",
      "4d73081abb404996bcdec00caea5763a",
      "a74ffc598a684291889cbfde2c5bb0fa",
      "61e2303fbfe94a5c9225bf7d887b6e9a",
      "6ddbde1cb00d45598878355546cc6241",
      "f6963dfa153c4a2aa49ff56cd8ac4684",
      "811209faf2aa4933aff3a24b07f59408",
      "77ce8be6776949089ea54fa8dd4afa68",
      "79420ee2eb5445d1b7134a62cfd5687a",
      "f3bb1c6a147f40d6ad5155a21dbd7128",
      "2221dc1501a146d6a1b040bc6d04bb0b",
      "6d78922955a24ac0a6657a9eb2c27f21",
      "c71262fda2ae4cccab712dd306c657e9",
      "2f3fedb335694de19b43fe5a98c2e7f6",
      "500d755892734d1b98e19e44da95d093",
      "0f1347f1a1fc4e44bce16d75380f5bf8",
      "359c5c6f99af48348121aff7ec83a1b1",
      "4856dab3652c458caa524922e7a83934",
      "d380341541594c2086e816b6aecc1684",
      "92fb100122074abf92be270167810205",
      "69e33684ff7e48f59326e9aa5d03a69c",
      "a9324446c85548e9b499e7b070456058",
      "ea8537fadc7c417ca274caad027b431b",
      "f2f2062950654b8cac87375a5f41463f",
      "6f8d3ec291474a9a9fb1f9f69c29ddf1",
      "73381979b0f646b2a633f548df7ac893",
      "27e7c67cf8824743a40c344e463db9ee",
      "b0a6ac96f56b4dae8e63e2848d61718c",
      "5576152972614b9484e0e5d3baa719c0",
      "ab505d3544ab4a09a0024509bcb5602e",
      "2af35b2797694037ba1998329cd870a5",
      "a4e7b033957b4755a7eb2a8fdccd86f8",
      "4b4a6291416949d3bf68b9f726103e3d",
      "653d4f93a63d462aa7f48728e7496fa9",
      "b42f11c87b0e40058add370e9ec4541f",
      "61449a4f62f9417aa20ed407894efb5b",
      "4167a1613dfd415ca4fc2a98f363b3ee",
      "596f03880df547e1a40de6f9769d96c6",
      "7e92e0365ede4255b54e071ca8fc26b9",
      "5546980ff9444d29a214cc1a4ae11e28",
      "fd48a612aefa4e32a4d9565c45ffc86b"
     ]
    },
    "id": "KdAro2OOyNdm",
    "outputId": "ed79df47-1d77-411f-8bef-64821d8e693c"
   },
   "outputs": [],
   "source": [
    "'''\n",
    "Model available on huggingface hub: https://huggingface.co/adamadam111/bros-finetuned-funsd\n",
    "'''"
   ]
  },
  {
   "cell_type": "markdown",
   "metadata": {
    "id": "ZIAlrv_T0siD"
   },
   "source": [
    "## Inference\n",
    "\n",
    "Upload a test form as 'test.jpg' for inference"
   ]
  },
  {
   "cell_type": "code",
   "execution_count": null,
   "metadata": {
    "colab": {
     "base_uri": "https://localhost:8080/"
    },
    "id": "QWlbpsRf3Iv_",
    "outputId": "c299c8a3-f01c-471a-fc43-f0c84bf29e8c"
   },
   "outputs": [],
   "source": [
    "!pip install pytesseract"
   ]
  },
  {
   "cell_type": "code",
   "execution_count": null,
   "metadata": {
    "colab": {
     "base_uri": "https://localhost:8080/",
     "height": 81,
     "referenced_widgets": [
      "1963629aa65e48acafc31197d40a3fbb",
      "6f963acae0e3448f95b3c12ecb3d7be7",
      "fa4bdce3d2b24a7e9154baf953f842a7",
      "8f6114c6adce4d41ad6f630950da2f58",
      "ee39f210905c465b9c491041846d5fe7",
      "54085936c519438aa6d1dde417d63c68",
      "588864a111b54cc5a670d4acfe23475b",
      "2e25ca83d81345689c05449436fb373e",
      "87bd13dfde734cc8a7d1589bb0fda172",
      "17b8dd1b3cfa421b9ac6394f0a4932ce",
      "69e0924ea8d449a6b996c4ba675c7a5e",
      "e6629c26360140bf8e31fd63556cbe76",
      "b68a71cfc55b43a9a741bd873a7a3da0",
      "8ef26f2e4df94feb9609c66182ddc9cb",
      "ce4379f1d7a146329df8288121c852ff",
      "9d7636f65c2844b1be78490080db88c4",
      "36cb1d5f67764e39bdb7442e85fc720f",
      "ed8acc07802142ba85bf67f5acfe3040",
      "40b53a6d9bd54549aa2b992ff412b6fb",
      "ef31d9f713c44bedb1d1f1423787a7cb",
      "b22b13f18c3a410187984297fc54106b",
      "9a2c1a0e6139421e8c9a7b561d7211bb"
     ]
    },
    "id": "2Ir3JZjW0sCb",
    "outputId": "1c22e11a-ecf4-408f-d3b0-acc1490e8c89"
   },
   "outputs": [],
   "source": [
    "import pytesseract, cv2\n",
    "\n",
    "tokenizer = AutoTokenizer.from_pretrained(\"adamadam111/bros-funsd-finetuned\",do_lower_case=True)\n",
    "model = BrosForTokenClassification.from_pretrained(\"adamadam111/bros-funsd-finetuned\")\n",
    "\n",
    "image_path = \"test.jpg\"\n",
    "img = cv2.imread(image_path)\n",
    "ocr_data = pytesseract.image_to_data(img, output_type=pytesseract.Output.DICT)"
   ]
  },
  {
   "cell_type": "code",
   "execution_count": null,
   "metadata": {
    "id": "04qEVfya3PPY"
   },
   "outputs": [],
   "source": [
    "words, bboxes = [], []\n",
    "for i in range(len(ocr_data[\"text\"])):\n",
    "  word = ocr_data[\"text\"][i].strip()\n",
    "  if word == \"\":\n",
    "    continue\n",
    "  x, y, w, h = (ocr_data[k][i] for k in [\"left\",\"top\",\"width\",\"height\"])\n",
    "  words.append(word)\n",
    "  bboxes.append([x, y, x+w, y+h])\n"
   ]
  },
  {
   "cell_type": "code",
   "execution_count": null,
   "metadata": {
    "id": "wAieVEDL3Qw7"
   },
   "outputs": [],
   "source": [
    "height, width = img.shape[:2]\n",
    "boxes_1000 = [normalize_bbox(bbox, width, height) for bbox in bboxes]\n"
   ]
  },
  {
   "cell_type": "code",
   "execution_count": null,
   "metadata": {
    "id": "5VYu8S443SgJ"
   },
   "outputs": [],
   "source": [
    "enc = tokenizer(words,\n",
    "          is_split_into_words=True,\n",
    "          return_tensors=\"pt\",\n",
    "          padding=\"max_length\",\n",
    "          truncation=True,\n",
    "          max_length=512)\n",
    "\n",
    "aligned_boxes = []\n",
    "word_ids = enc.word_ids()\n",
    "for wi in word_ids:\n",
    "  if wi is None:\n",
    "    aligned_boxes.append([0,0,0,0])\n",
    "  else:\n",
    "    aligned_boxes.append(boxes_1000[wi])\n",
    "\n",
    "enc[\"bbox\"] = torch.tensor([aligned_boxes])\n"
   ]
  },
  {
   "cell_type": "code",
   "execution_count": null,
   "metadata": {
    "id": "Wbz79fa64wVJ"
   },
   "outputs": [],
   "source": [
    "def unnormalize_box(box_1000, w, h):\n",
    "  return [\n",
    "    int(box_1000[0] * w / 1000),\n",
    "    int(box_1000[1] * h / 1000),\n",
    "    int(box_1000[2] * w / 1000),\n",
    "    int(box_1000[3] * h / 1000),\n",
    "  ]\n",
    "\n",
    "def iob_to_label(tag):\n",
    "  print(tag)\n",
    "  core = tag[2:] if tag.startswith((\"B-\",\"I-\")) else tag\n",
    "  return core.lower() if core else \"other\"\n",
    "\n",
    "label2color = {\n",
    "  \"question\": \"blue\",\n",
    "  \"answer\":   \"green\",\n",
    "  \"header\":   \"orange\",\n",
    "  \"other\":    \"violet\",\n",
    "}"
   ]
  },
  {
   "cell_type": "code",
   "execution_count": null,
   "metadata": {
    "colab": {
     "base_uri": "https://localhost:8080/",
     "height": 1000
    },
    "id": "uYdATgCr3vGJ",
    "outputId": "4926c33c-354a-4770-b727-707f13f8469e"
   },
   "outputs": [],
   "source": [
    "outputs   = model(**enc)\n",
    "pred_ids  = outputs.logits.argmax(dim=-1).squeeze().tolist()\n",
    "word_ids  = enc.word_ids()\n",
    "\n",
    "true_preds, true_boxes = [], []\n",
    "prev_word = None\n",
    "for pid, wid, box in zip(pred_ids, word_ids, aligned_boxes):\n",
    "  if wid is None or wid == prev_word:\n",
    "    continue\n",
    "  true_preds.append(id2label[pid])\n",
    "  true_boxes.append(unnormalize_box(box, width, height))\n",
    "  prev_word = wid\n",
    "\n",
    "true_preds = [id2label[p] for p, l in zip(pred_ids, word_ids) if l != -100]\n",
    "true_boxes = [unnormalize_box(b, width, height) for b, l in zip(aligned_boxes, word_ids) if l != -100]\n",
    "\n",
    "img_pil = Image.fromarray(img)\n",
    "draw = ImageDraw.Draw(img_pil)\n",
    "font = ImageFont.load_default()\n",
    "\n",
    "for pred, box in zip(true_preds, true_boxes):\n",
    "  label = iob_to_label(pred)\n",
    "  color = label2color.get(label, \"red\")\n",
    "  draw.rectangle(box, outline=color, width=2)\n",
    "  draw.text((box[0] + 3, box[1] - 10), text=label, fill=color, font=font)\n",
    "\n",
    "img_pil\n",
    "#img_pil.save('/content/test_ann.jpg')"
   ]
  }
 ],
 "metadata": {
  "accelerator": "GPU",
  "colab": {
   "authorship_tag": "ABX9TyPB7BUSmpMKHt8ljCA3EdfU",
   "gpuType": "T4",
   "include_colab_link": true,
   "machine_shape": "hm",
   "provenance": []
  },
  "kernelspec": {
   "display_name": "Python 3",
   "name": "python3"
  },
  "language_info": {
   "name": "python"
  }
 },
 "nbformat": 4,
 "nbformat_minor": 0
}
