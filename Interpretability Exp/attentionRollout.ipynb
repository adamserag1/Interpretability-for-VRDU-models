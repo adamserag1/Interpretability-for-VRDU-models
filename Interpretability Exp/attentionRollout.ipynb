{
 "cells": [
  {
   "cell_type": "code",
   "execution_count": null,
   "id": "83950a2b",
   "metadata": {
    "vscode": {
     "languageId": "plaintext"
    }
   },
   "outputs": [],
   "source": []
  },
  {
   "cell_type": "code",
   "execution_count": null,
   "id": "646ca8fb",
   "metadata": {
    "vscode": {
     "languageId": "plaintext"
    }
   },
   "outputs": [],
   "source": [
    "import numpy as np\n",
    "import pandas as pd\n",
    "import ace_tools as tools\n",
    "\n",
    "# Toy 2-token attention matrix (without the identity)\n",
    "A = np.array([[0.2, 0.8],\n",
    "              [0.6, 0.4]])\n",
    "\n",
    "# Collect row‑0 distributions for powers 1–10\n",
    "data = {'k (layers)': [], 'prob→token 0 (self)': [], 'prob→token 1': []}\n",
    "for k in range(1, 11):\n",
    "    Ak = np.linalg.matrix_power(A, k)\n",
    "    data['k (layers)'].append(k)\n",
    "    data['prob→token 0 (self)'].append(round(float(Ak[0, 0]), 4))\n",
    "    data['prob→token 1'].append(round(float(Ak[0, 1]), 4))\n",
    "\n",
    "df = pd.DataFrame(data)\n",
    "tools.display_dataframe_to_user(\"Row‑0 influence over layers (Aⁿ)\", df)"
   ]
  }
 ],
 "metadata": {
  "language_info": {
   "name": "python"
  }
 },
 "nbformat": 4,
 "nbformat_minor": 5
}
