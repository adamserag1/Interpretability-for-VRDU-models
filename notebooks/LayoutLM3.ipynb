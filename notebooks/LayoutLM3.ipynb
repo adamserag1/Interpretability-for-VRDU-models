{
  "nbformat": 4,
  "nbformat_minor": 0,
  "metadata": {
    "colab": {
      "provenance": [],
      "authorship_tag": "ABX9TyO0fP4ahPoa8UljpgOn2ePC",
      "include_colab_link": true
    },
    "kernelspec": {
      "name": "python3",
      "display_name": "Python 3"
    },
    "language_info": {
      "name": "python"
    }
  },
  "cells": [
    {
      "cell_type": "markdown",
      "metadata": {
        "id": "view-in-github",
        "colab_type": "text"
      },
      "source": [
        "<a href=\"https://colab.research.google.com/github/adamserag1/Interpretability-for-VRDU-models/blob/main/notebooks/LayoutLM3.ipynb\" target=\"_parent\"><img src=\"https://colab.research.google.com/assets/colab-badge.svg\" alt=\"Open In Colab\"/></a>"
      ]
    },
    {
      "cell_type": "markdown",
      "source": [
        "# Layout LMv3"
      ],
      "metadata": {
        "id": "iO1LTTzwP2Qf"
      }
    },
    {
      "cell_type": "code",
      "execution_count": null,
      "metadata": {
        "id": "XRJ8ZSToPYan"
      },
      "outputs": [],
      "source": [
        "# UNCOMMNET FOR USE IN COLAB\n",
        "!git clone https://github.com/adamserag1/Interpretability-for-VRDU-models.git"
      ]
    }
  ]
}