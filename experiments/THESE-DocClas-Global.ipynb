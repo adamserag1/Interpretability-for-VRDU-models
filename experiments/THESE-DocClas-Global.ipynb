{
 "cells": [
  {
   "metadata": {},
   "cell_type": "markdown",
   "source": "# Summary Statistics for interpretability techniques",
   "id": "89ef7bd3430aab"
  },
  {
   "metadata": {},
   "cell_type": "markdown",
   "source": "## GITHUB",
   "id": "24f90ea8f72fd489"
  },
  {
   "cell_type": "code",
   "execution_count": null,
   "id": "initial_id",
   "metadata": {
    "collapsed": true
   },
   "outputs": [],
   "source": "!git clone https://github.com/adamserag1/Interpretability-for-VRDU-models.git"
  },
  {
   "metadata": {},
   "cell_type": "code",
   "outputs": [],
   "execution_count": null,
   "source": "!git pull https://github.com/adamserag1/Interpretability-for-VRDU-models.git",
   "id": "ebfc83ba4083b99e"
  },
  {
   "metadata": {},
   "cell_type": "code",
   "outputs": [],
   "execution_count": null,
   "source": "%cd /content/Interpretability-for-VRDU-models",
   "id": "95c24155ae86afe7"
  },
  {
   "metadata": {},
   "cell_type": "code",
   "outputs": [],
   "execution_count": null,
   "source": "!pip install -r requirements.txt",
   "id": "e925c3d0fa704747"
  },
  {
   "metadata": {},
   "cell_type": "markdown",
   "source": "## Libraries",
   "id": "d442c3ac81926e5d"
  },
  {
   "metadata": {},
   "cell_type": "code",
   "outputs": [],
   "execution_count": null,
   "source": [
    "#code\n",
    "from datasets import load_from_disk\n",
    "from transformers import LayoutLMv3ForTokenClassification, AutoProcessor, BrosForTokenClassification, AutoTokenizer, AutoConfig\n",
    "import sys\n",
    "import importlib\n",
    "def reload_modules():\n",
    "    for module in list(sys.modules.keys()):\n",
    "        if module.startswith('vrdu_utils') or module.startswith('Classification_Explain') or module.startswith('lime') or module.startswith('Eval'):\n",
    "            print(f\"Reloading module: {module}\")\n",
    "            importlib.reload(sys.modules[module])\n",
    "\n",
    "reload_modules()\n",
    "\n",
    "from vrdu_utils.encoders import *\n",
    "from Classification_Explain.lime import *\n",
    "from vrdu_utils.utils import *\n",
    "import torch\n",
    "from Eval.eval_suite import *\n",
    "from Eval.fidelity import *\n",
    "from Classification_Explain.shap import *\n",
    "device = torch.device(\"cuda\" if torch.cuda.is_available() else \"cpu\")\n",
    "\n",
    "import warnings\n",
    "from transformers import logging as hf_logging\n",
    "\n",
    "warnings.filterwarnings(\n",
    "    \"ignore\",\n",
    "    category=FutureWarning,\n",
    "    module=\"transformers.modeling_utils\",   # the module that emits the msg\n",
    ")\n",
    "hf_logging.set_verbosity_error()\n",
    "device = torch.device(\"cuda\" if torch.cuda.is_available() else \"cpu\")"
   ],
   "id": "ccc0121afc0dd836"
  },
  {
   "metadata": {},
   "cell_type": "markdown",
   "source": "## Data + Model Setup",
   "id": "dccddf1dabf357c8"
  },
  {
   "metadata": {},
   "cell_type": "code",
   "outputs": [],
   "execution_count": null,
   "source": "",
   "id": "1912f09b8daf7089"
  }
 ],
 "metadata": {
  "kernelspec": {
   "display_name": "Python 3",
   "language": "python",
   "name": "python3"
  },
  "language_info": {
   "codemirror_mode": {
    "name": "ipython",
    "version": 2
   },
   "file_extension": ".py",
   "mimetype": "text/x-python",
   "name": "python",
   "nbconvert_exporter": "python",
   "pygments_lexer": "ipython2",
   "version": "2.7.6"
  }
 },
 "nbformat": 4,
 "nbformat_minor": 5
}
