{
 "cells": [
  {
   "metadata": {},
   "cell_type": "markdown",
   "source": "# Interpretability Techniques for single samples from FUNSD",
   "id": "c04c7f4519b2938d"
  },
  {
   "metadata": {},
   "cell_type": "markdown",
   "source": "## Github",
   "id": "e98f9748410d7c9a"
  },
  {
   "metadata": {},
   "cell_type": "code",
   "outputs": [],
   "execution_count": null,
   "source": "!git clone https://github.com/adamserag1/Interpretability-for-VRDU-models.git",
   "id": "cbf1f2994a4eb88c"
  },
  {
   "metadata": {},
   "cell_type": "code",
   "outputs": [],
   "execution_count": null,
   "source": "!git pull https://github.com/adamserag1/Interpretability-for-VRDU-models.git",
   "id": "5fe2b5c963ead93d"
  },
  {
   "metadata": {},
   "cell_type": "code",
   "outputs": [],
   "execution_count": null,
   "source": "%cd /content/Interpretability-for-VRDU-models",
   "id": "ab3c186e6d15a455"
  },
  {
   "metadata": {},
   "cell_type": "code",
   "outputs": [],
   "execution_count": null,
   "source": "!pip install -r requirements.txt",
   "id": "401a5b4c011c50be"
  },
  {
   "metadata": {},
   "cell_type": "code",
   "outputs": [],
   "execution_count": null,
   "source": "!pip install -U datasets",
   "id": "17e225e9517a7088"
  },
  {
   "metadata": {},
   "cell_type": "markdown",
   "source": "## Libraries",
   "id": "be8dde13902f465b"
  },
  {
   "metadata": {},
   "cell_type": "code",
   "outputs": [],
   "execution_count": null,
   "source": [
    "#code\n",
    "from datasets import load_from_disk\n",
    "from transformers import LayoutLMv3ForSequenceClassification, AutoProcessor, BrosModel, AutoTokenizer, BrosPreTrainedModel, AutoConfig\n",
    "import sys\n",
    "import importlib\n",
    "def reload_modules():\n",
    "    for module in list(sys.modules.keys()):\n",
    "        if module.startswith('vrdu_utils') or module.startswith('Classification_Explain') or module.startswith('lime') or module.startswith('Eval'):\n",
    "            print(f\"Reloading module: {module}\")\n",
    "            importlib.reload(sys.modules[module])\n",
    "\n",
    "reload_modules()\n",
    "\n",
    "from vrdu_utils.encoders import *\n",
    "from Classification_Explain.lime import *\n",
    "from vrdu_utils.utils import *\n",
    "import torch\n",
    "from Eval.eval_suite import *\n",
    "from Eval.fidelity import *\n",
    "from Classification_Explain.shap import *\n",
    "device = torch.device(\"cuda\" if torch.cuda.is_available() else \"cpu\")\n",
    "\n",
    "import warnings\n",
    "from transformers import logging as hf_logging\n",
    "\n",
    "warnings.filterwarnings(\n",
    "    \"ignore\",\n",
    "    category=FutureWarning,\n",
    "    module=\"transformers.modeling_utils\",   # the module that emits the msg\n",
    ")\n",
    "hf_logging.set_verbosity_error()\n"
   ],
   "id": "f30ac28ca1feea9d"
  },
  {
   "metadata": {},
   "cell_type": "markdown",
   "source": "## Data & Model Setup",
   "id": "52584fc1b2f0a4d8"
  },
  {
   "metadata": {},
   "cell_type": "code",
   "outputs": [],
   "execution_count": null,
   "source": [
    "FUNSD = load_dataset('nielsr/funsd')\n",
    "print(FUNSD)"
   ],
   "id": "828e2973c38bb514"
  }
 ],
 "metadata": {
  "kernelspec": {
   "display_name": "Python 3",
   "language": "python",
   "name": "python3"
  },
  "language_info": {
   "codemirror_mode": {
    "name": "ipython",
    "version": 2
   },
   "file_extension": ".py",
   "mimetype": "text/x-python",
   "name": "python",
   "nbconvert_exporter": "python",
   "pygments_lexer": "ipython2",
   "version": "2.7.6"
  }
 },
 "nbformat": 4,
 "nbformat_minor": 5
}
