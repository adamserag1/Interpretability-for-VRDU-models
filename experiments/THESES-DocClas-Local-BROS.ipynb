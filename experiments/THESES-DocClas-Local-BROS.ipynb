{
 "cells": [
  {
   "metadata": {},
   "cell_type": "markdown",
   "source": "# Interpretability techniques for single samples from RVL-CDIP subset - BROS",
   "id": "41a7947d68d6e9e9"
  },
  {
   "metadata": {},
   "cell_type": "markdown",
   "source": "## GITHUB",
   "id": "b2ad416557edfb0b"
  },
  {
   "cell_type": "code",
   "execution_count": null,
   "id": "initial_id",
   "metadata": {
    "collapsed": true
   },
   "outputs": [],
   "source": "!git clone https://github.com/adamserag1/Interpretability-for-VRDU-models.git"
  },
  {
   "metadata": {},
   "cell_type": "code",
   "outputs": [],
   "execution_count": null,
   "source": "!git pull https://github.com/adamserag1/Interpretability-for-VRDU-models.git",
   "id": "6b13ebc38d706ea5"
  },
  {
   "metadata": {},
   "cell_type": "code",
   "outputs": [],
   "execution_count": null,
   "source": "%cd /content/Interpretability-for-VRDU-models",
   "id": "d3b1a93555c22b68"
  },
  {
   "metadata": {},
   "cell_type": "code",
   "outputs": [],
   "execution_count": null,
   "source": "!pip install -r requirements.txt",
   "id": "3f5d7ccee723f88c"
  },
  {
   "metadata": {},
   "cell_type": "markdown",
   "source": "## Libraries",
   "id": "f82be49617fe3c30"
  },
  {
   "metadata": {},
   "cell_type": "code",
   "outputs": [],
   "execution_count": null,
   "source": [
    "#code\n",
    "from datasets import load_from_disk\n",
    "from transformers import LayoutLMv3ForSequenceClassification, AutoProcessor\n",
    "import sys\n",
    "import importlib\n",
    "def reload_modules():\n",
    "    for module in list(sys.modules.keys()):\n",
    "        if module.startswith('vrdu_utils') or module.startswith('Classification_Explain'):\n",
    "            print(f\"Reloading module: {module}\")\n",
    "            importlib.reload(sys.modules[module])\n",
    "\n",
    "reload_modules()\n",
    "\n",
    "from vrdu_utils.encoders import *\n",
    "from Classification_Explain.lime import *\n",
    "from vrdu_utils.utils import *\n",
    "import torch\n",
    "device = torch.device(\"cuda\" if torch.cuda.is_available() else \"cpu\")\n",
    "\n",
    "import warnings\n",
    "from transformers import logging as hf_logging\n",
    "\n",
    "warnings.filterwarnings(\n",
    "    \"ignore\",\n",
    "    category=FutureWarning,\n",
    "    module=\"transformers.modeling_utils\",   # the module that emits the msg\n",
    ")\n",
    "hf_logging.set_verbosity_error()"
   ],
   "id": "33088a4795810277"
  },
  {
   "metadata": {},
   "cell_type": "markdown",
   "source": "## Data + Model Setup",
   "id": "f70a388edfd1d513"
  },
  {
   "metadata": {
    "ExecuteTime": {
     "end_time": "2025-07-20T15:19:36.570854Z",
     "start_time": "2025-07-20T15:19:36.277820Z"
    }
   },
   "cell_type": "code",
   "source": [
    "from google.colab import drive\n",
    "drive.mount(\"/content/drive\")\n",
    "!cp -r /content/drive/MyDrive/THESIS/rvl_cdip_financial_subset /content"
   ],
   "id": "44e45270a7a4ed49",
   "outputs": [
    {
     "ename": "ModuleNotFoundError",
     "evalue": "No module named 'google'",
     "output_type": "error",
     "traceback": [
      "\u001B[31m---------------------------------------------------------------------------\u001B[39m",
      "\u001B[31mModuleNotFoundError\u001B[39m                       Traceback (most recent call last)",
      "\u001B[36mCell\u001B[39m\u001B[36m \u001B[39m\u001B[32mIn[1]\u001B[39m\u001B[32m, line 1\u001B[39m\n\u001B[32m----> \u001B[39m\u001B[32m1\u001B[39m \u001B[38;5;28;01mfrom\u001B[39;00m\u001B[38;5;250m \u001B[39m\u001B[34;01mgoogle\u001B[39;00m\u001B[34;01m.\u001B[39;00m\u001B[34;01mcolab\u001B[39;00m\u001B[38;5;250m \u001B[39m\u001B[38;5;28;01mimport\u001B[39;00m drive\n\u001B[32m      2\u001B[39m drive.mount(\u001B[33m\"\u001B[39m\u001B[33m/content/drive\u001B[39m\u001B[33m\"\u001B[39m)\n",
      "\u001B[31mModuleNotFoundError\u001B[39m: No module named 'google'"
     ]
    }
   ],
   "execution_count": 1
  },
  {
   "metadata": {},
   "cell_type": "code",
   "outputs": [],
   "execution_count": null,
   "source": [
    "rvl = load_from_disk('/content/rvl_cdip_financial_subset')\n",
    "dataset_split = rvl.train_test_split(test_size=0.2, seed=42)\n",
    "val = dataset_split[\"test\"]\n",
    "val_ds = DocSampleDataset(val)\n",
    "\n",
    "# Extract samples 'agree' (LLMV3 + BROS classify correct) and 'CLASH' (LLMV3 classify wrong, BROS classify correct)\n",
    "\n",
    "AGREE = val_ds[108]\n",
    "CLASH = val_ds[100]"
   ],
   "id": "97f7600e074e87f0"
  },
  {
   "metadata": {},
   "cell_type": "code",
   "outputs": [],
   "execution_count": null,
   "source": "AGREE.image",
   "id": "15ef12f117efcb72"
  },
  {
   "metadata": {},
   "cell_type": "code",
   "outputs": [],
   "execution_count": null,
   "source": "CLASH.image",
   "id": "922f25ed23a6547e"
  },
  {
   "metadata": {},
   "cell_type": "code",
   "outputs": [],
   "execution_count": null,
   "source": [
    "LLMV3 = LayoutLMv3ForSequenceClassification.from_pretrained(\"adamadam111/layoutlmv3-docclass-finetuned\",\n",
    "                                                            num_labels=5,\n",
    "                                                            id2label={0: \"form\", 1: \"invoice\", 2: \"budget\", 3: \"file folder\", 4: \"questionnaire\"},\n",
    "                                                            label2id={\"form\": 0, \"invoice\": 1, \"budget\": 2, \"file folder\": 3, \"questionnaire\": 4})\n",
    "LLMV3_proc = AutoProcessor.from_pretrained(\"microsoft/layoutlmv3-base\", apply_ocr=False)\n",
    "LLMV3_encode = make_layoutlmv3_encoder(LLMV3_PROC)\n",
    "LLMV3.to(device)"
   ],
   "id": "dd767a5b466b3511"
  },
  {
   "metadata": {},
   "cell_type": "markdown",
   "source": "## Interpreting the 'Agree' sample",
   "id": "d20ab953d1771306"
  },
  {
   "metadata": {},
   "cell_type": "markdown",
   "source": "### Text Modality",
   "id": "af4610b6ee2c0b58"
  },
  {
   "metadata": {},
   "cell_type": "code",
   "outputs": [],
   "execution_count": null,
   "source": [
    "text_explaienr = LimeTextExplainer(\n",
    "    LLMV3,\n",
    "    LLMV3_encode,\n",
    "    mask_token = LLMV3_proc.tokenizer.mask_token,\n",
    "    batch_size = 2,\n",
    "    kernel_width_factor = 0.75\n",
    ")"
   ],
   "id": "2d84ad63f6b1f637"
  },
  {
   "metadata": {},
   "cell_type": "code",
   "outputs": [],
   "execution_count": null,
   "source": "text_vals = text_explainer.explain(AGREE, align_boxes=False, num_samples=20000, num_features=10)",
   "id": "13fdb9da7ad7d0da"
  }
 ],
 "metadata": {
  "kernelspec": {
   "display_name": "Python 3",
   "language": "python",
   "name": "python3"
  },
  "language_info": {
   "codemirror_mode": {
    "name": "ipython",
    "version": 2
   },
   "file_extension": ".py",
   "mimetype": "text/x-python",
   "name": "python",
   "nbconvert_exporter": "python",
   "pygments_lexer": "ipython2",
   "version": "2.7.6"
  }
 },
 "nbformat": 4,
 "nbformat_minor": 5
}
