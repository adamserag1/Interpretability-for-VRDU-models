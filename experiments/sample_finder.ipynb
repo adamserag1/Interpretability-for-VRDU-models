{
 "cells": [
  {
   "cell_type": "code",
   "execution_count": null,
   "id": "initial_id",
   "metadata": {
    "collapsed": true
   },
   "outputs": [],
   "source": "!git clone https://github.com/adamserag1/Interpretability-for-VRDU-models.git"
  },
  {
   "metadata": {},
   "cell_type": "code",
   "outputs": [],
   "execution_count": null,
   "source": "!git pull https://github.com/adamserag1/Interpretability-for-VRDU-models.git",
   "id": "7892de2b757212e5"
  },
  {
   "metadata": {},
   "cell_type": "markdown",
   "source": "#config",
   "id": "7d77c9a72fe0ea0c"
  },
  {
   "metadata": {},
   "cell_type": "code",
   "outputs": [],
   "execution_count": null,
   "source": "!pwd",
   "id": "a5bb22cef25eee2c"
  },
  {
   "metadata": {},
   "cell_type": "code",
   "outputs": [],
   "execution_count": null,
   "source": "%cd /content/Interpretability-for-VRDU-models",
   "id": "2456286b7121afcc"
  },
  {
   "metadata": {},
   "cell_type": "code",
   "outputs": [],
   "execution_count": null,
   "source": "!pip install -r requirements.txt",
   "id": "23a757d89662c751"
  },
  {
   "metadata": {},
   "cell_type": "code",
   "outputs": [],
   "execution_count": null,
   "source": "!pip install -U datasets",
   "id": "74a91e109422921d"
  },
  {
   "metadata": {},
   "cell_type": "markdown",
   "source": "#code",
   "id": "fbf2bbf42b71e8f0"
  },
  {
   "metadata": {},
   "cell_type": "code",
   "outputs": [],
   "execution_count": null,
   "source": [
    "from datasets import load_from_disk\n",
    "from transformers import LayoutLMv3ForSequenceClassification, AutoProcessor\n",
    "import sys\n",
    "import importlib\n",
    "def reload_modules():\n",
    "    for module in list(sys.modules.keys()):\n",
    "        if module.startswith('vrdu_utils') or module.startswith('Classification_Explain'):\n",
    "            print(f\"Reloading module: {module}\")\n",
    "            importlib.reload(sys.modules[module])\n",
    "\n",
    "reload_modules()\n",
    "\n",
    "from vrdu_utils.encoders import *\n",
    "from Classification_Explain.lime import *\n",
    "import torch\n",
    "from transformers import LayoutLMv3ForSequenceClassification, AutoProcessor, BrosPreTrainedModel, BrosModel, AutoConfig, AutoTokenizer\n",
    "device = torch.device(\"cuda\" if torch.cuda.is_available() else \"cpu\")\n",
    "\n",
    "import warnings\n",
    "from transformers import logging as hf_logging\n",
    "\n",
    "warnings.filterwarnings(\n",
    "    \"ignore\",\n",
    "    category=FutureWarning,\n",
    "    module=\"transformers.modeling_utils\",   # the module that emits the msg\n",
    ")\n",
    "hf_logging.set_verbosity_error()"
   ],
   "id": "82724ed61d485fd1"
  },
  {
   "metadata": {},
   "cell_type": "code",
   "outputs": [],
   "execution_count": null,
   "source": [
    "from google.colab import drive\n",
    "drive.mount('/content/drive')"
   ],
   "id": "a0c76f0d06c5552c"
  },
  {
   "metadata": {},
   "cell_type": "code",
   "outputs": [],
   "execution_count": null,
   "source": "!cp -r /content/drive/MyDrive/THESIS/rvl_cdip_financial_subset /content",
   "id": "6ec804758404268"
  },
  {
   "metadata": {},
   "cell_type": "code",
   "outputs": [],
   "execution_count": null,
   "source": [
    "class BrosForDocumentClassification(BrosPreTrainedModel):\n",
    "    def __init__(self, config):\n",
    "        super().__init__(config)\n",
    "        self.num_labels = config.num_labels\n",
    "\n",
    "        self.bros = BrosModel(config)\n",
    "        self.dropout = nn.Dropout(config.hidden_dropout_prob)\n",
    "        self.classifier = nn.Linear(config.hidden_size, config.num_labels)\n",
    "\n",
    "        self.init_weights()\n",
    "\n",
    "    def forward(\n",
    "        self,\n",
    "        input_ids=None,\n",
    "        bbox=None,\n",
    "        attention_mask=None,\n",
    "        token_type_ids=None,\n",
    "        labels=None,\n",
    "        **kwargs\n",
    "    ):\n",
    "        outputs = self.bros(\n",
    "            input_ids=input_ids,\n",
    "            bbox=bbox,\n",
    "            attention_mask=attention_mask,\n",
    "            token_type_ids=token_type_ids,\n",
    "        )\n",
    "\n",
    "        # Use the [CLS] token's representation (first token)\n",
    "        cls_output = outputs.last_hidden_state[:, 0, :]  # shape: (batch_size, hidden_size)\n",
    "\n",
    "        cls_output = self.dropout(cls_output)\n",
    "        logits = self.classifier(cls_output)\n",
    "\n",
    "        loss = None\n",
    "        if labels is not None:\n",
    "            loss_fct = nn.CrossEntropyLoss()\n",
    "            loss = loss_fct(logits.view(-1, self.num_labels), labels.view(-1))\n",
    "\n",
    "        return {\n",
    "            \"loss\": loss,\n",
    "            \"logits\": logits,\n",
    "        }"
   ],
   "id": "716e59eb4018aeed"
  },
  {
   "metadata": {},
   "cell_type": "code",
   "outputs": [],
   "execution_count": null,
   "source": [
    "bros_config = AutoConfig.from_pretrained(\n",
    "    \"adamadam111/bros-docclass-finetuned\",\n",
    "    num_labels=5,\n",
    "    id2label={0: \"form\", 1: \"invoice\", 2: \"budget\", 3: \"file folder\", 4: \"questionnaire\"},\n",
    "    label2id={\"form\": 0, \"invoice\": 1, \"budget\": 2, \"file folder\": 3, \"questionnaire\": 4}\n",
    ")\n",
    "\n",
    "BROS = BrosForDocumentClassification.from_pretrained(\n",
    "    \"adamadam111/bros-docclass-finetuned\",\n",
    "    config=bros_config\n",
    ")\n",
    "BROS_t = AutoTokenizer.from_pretrained(\"nadamadam111/bros-docclass-finetuned\",do_lower_case=True)\n",
    "\n",
    "LLMV3 = LayoutLMv3ForSequenceClassification.from_pretrained(\"adamadam111/layoutlmv3-docclass-finetuned\",\n",
    "                                                            num_labels=5,\n",
    "                                                            id2label={0: \"form\", 1: \"invoice\", 2: \"budget\", 3: \"file folder\", 4: \"questionnaire\"},\n",
    "                                                            label2id={\"form\": 0, \"invoice\": 1, \"budget\": 2, \"file folder\": 3, \"questionnaire\": 4})\n",
    "LLMV3_p =AutoProcessor.from_pretrained(\"microsoft/layoutlmv3-base\", apply_ocr=False)\n",
    "\n"
   ],
   "id": "9b273b11a3842deb"
  },
  {
   "metadata": {},
   "cell_type": "code",
   "outputs": [],
   "execution_count": null,
   "source": [
    "LLMV3_encode = make_layoutlmv3_encoder(LLMV3_p)\n",
    "BROS_encode = make_bros_encoder(BROS_t)"
   ],
   "id": "9fb936cbfbbd8e4d"
  }
 ],
 "metadata": {
  "kernelspec": {
   "display_name": "Python 3",
   "language": "python",
   "name": "python3"
  },
  "language_info": {
   "codemirror_mode": {
    "name": "ipython",
    "version": 2
   },
   "file_extension": ".py",
   "mimetype": "text/x-python",
   "name": "python",
   "nbconvert_exporter": "python",
   "pygments_lexer": "ipython2",
   "version": "2.7.6"
  }
 },
 "nbformat": 4,
 "nbformat_minor": 5
}
