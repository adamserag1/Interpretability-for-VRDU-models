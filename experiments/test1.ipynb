{
  "cells": [
    {
      "cell_type": "markdown",
      "source": [
        "#Test\n",
        "\n",
        "Example of how to clone the repo, change the working dir, and load a util"
      ],
      "metadata": {
        "id": "jXc-q_ujkpBC"
      },
      "id": "jXc-q_ujkpBC"
    },
    {
      "cell_type": "code",
      "id": "initial_id",
      "metadata": {
        "collapsed": true,
        "ExecuteTime": {
          "end_time": "2025-07-08T19:25:19.030209Z",
          "start_time": "2025-07-08T19:25:19.025712Z"
        },
        "id": "initial_id",
        "outputId": "fb483feb-ee08-47da-cbfa-0dc30ae77a00",
        "colab": {
          "base_uri": "https://localhost:8080/"
        }
      },
      "source": [
        "!git clone https://github.com/adamserag1/Interpretability-for-VRDU-models.git"
      ],
      "outputs": [
        {
          "output_type": "stream",
          "name": "stdout",
          "text": [
            "Cloning into 'Interpretability-for-VRDU-models'...\n",
            "remote: Enumerating objects: 268, done.\u001b[K\n",
            "remote: Counting objects: 100% (83/83), done.\u001b[K\n",
            "remote: Compressing objects: 100% (70/70), done.\u001b[K\n",
            "remote: Total 268 (delta 42), reused 28 (delta 11), pack-reused 185 (from 1)\u001b[K\n",
            "Receiving objects: 100% (268/268), 11.63 MiB | 5.33 MiB/s, done.\n",
            "Resolving deltas: 100% (125/125), done.\n"
          ]
        }
      ],
      "execution_count": 1
    },
    {
      "cell_type": "code",
      "source": [
        "!pwd"
      ],
      "metadata": {
        "id": "C67xy2yjkHX_",
        "outputId": "a1db29f8-f30b-410e-a326-f7d3d1c733b9",
        "colab": {
          "base_uri": "https://localhost:8080/"
        }
      },
      "id": "C67xy2yjkHX_",
      "execution_count": 4,
      "outputs": [
        {
          "output_type": "stream",
          "name": "stdout",
          "text": [
            "/content\n"
          ]
        }
      ]
    },
    {
      "cell_type": "code",
      "source": [
        "%cd /content/Interpretability-for-VRDU-models"
      ],
      "metadata": {
        "id": "R08EpXVUkKPI",
        "outputId": "db589fe7-48b1-4a7f-9e41-d5333bf7a989",
        "colab": {
          "base_uri": "https://localhost:8080/"
        }
      },
      "id": "R08EpXVUkKPI",
      "execution_count": 5,
      "outputs": [
        {
          "output_type": "stream",
          "name": "stdout",
          "text": [
            "/content/Interpretability-for-VRDU-models\n"
          ]
        }
      ]
    },
    {
      "metadata": {
        "ExecuteTime": {
          "end_time": "2025-07-08T19:29:33.676878Z",
          "start_time": "2025-07-08T19:29:33.670577Z"
        },
        "id": "a39fe7399cf03ab5",
        "outputId": "a06509e4-716e-4ffe-c1ee-ee0894a0da93",
        "colab": {
          "base_uri": "https://localhost:8080/",
          "height": 166
        }
      },
      "cell_type": "code",
      "source": [
        "from vrdu_utils.encoders import *\n",
        "test()"
      ],
      "id": "a39fe7399cf03ab5",
      "outputs": [
        {
          "output_type": "error",
          "ename": "NameError",
          "evalue": "name 'test' is not defined",
          "traceback": [
            "\u001b[0;31m---------------------------------------------------------------------------\u001b[0m",
            "\u001b[0;31mNameError\u001b[0m                                 Traceback (most recent call last)",
            "\u001b[0;32m/tmp/ipython-input-6-1821841738.py\u001b[0m in \u001b[0;36m<cell line: 0>\u001b[0;34m()\u001b[0m\n\u001b[1;32m      1\u001b[0m \u001b[0;32mfrom\u001b[0m \u001b[0mvrdu_utils\u001b[0m\u001b[0;34m.\u001b[0m\u001b[0mencoders\u001b[0m \u001b[0;32mimport\u001b[0m \u001b[0;34m*\u001b[0m\u001b[0;34m\u001b[0m\u001b[0;34m\u001b[0m\u001b[0m\n\u001b[0;32m----> 2\u001b[0;31m \u001b[0mtest\u001b[0m\u001b[0;34m(\u001b[0m\u001b[0;34m)\u001b[0m\u001b[0;34m\u001b[0m\u001b[0;34m\u001b[0m\u001b[0m\n\u001b[0m",
            "\u001b[0;31mNameError\u001b[0m: name 'test' is not defined"
          ]
        }
      ],
      "execution_count": 6
    }
  ],
  "metadata": {
    "kernelspec": {
      "display_name": "Python 3",
      "language": "python",
      "name": "python3"
    },
    "language_info": {
      "codemirror_mode": {
        "name": "ipython",
        "version": 2
      },
      "file_extension": ".py",
      "mimetype": "text/x-python",
      "name": "python",
      "nbconvert_exporter": "python",
      "pygments_lexer": "ipython2",
      "version": "2.7.6"
    },
    "colab": {
      "provenance": []
    }
  },
  "nbformat": 4,
  "nbformat_minor": 5
}