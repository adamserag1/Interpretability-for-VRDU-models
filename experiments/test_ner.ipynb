{
 "cells": [
  {
   "cell_type": "code",
   "execution_count": null,
   "id": "initial_id",
   "metadata": {
    "collapsed": true
   },
   "outputs": [],
   "source": "!git clone https://github.com/adamserag1/Interpretability-for-VRDU-models.git"
  },
  {
   "metadata": {},
   "cell_type": "code",
   "outputs": [],
   "execution_count": null,
   "source": "!git pull https://github.com/adamserag1/Interpretability-for-VRDU-models.git",
   "id": "3e2573d8ddb04f99"
  },
  {
   "metadata": {},
   "cell_type": "markdown",
   "source": "#config",
   "id": "8b5edcb13ffa3076"
  },
  {
   "metadata": {},
   "cell_type": "code",
   "outputs": [],
   "execution_count": null,
   "source": "%cd /content/Interpretability-for-VRDU-models",
   "id": "1934d9519004ac96"
  },
  {
   "metadata": {},
   "cell_type": "code",
   "outputs": [],
   "execution_count": null,
   "source": "!pip install -r requirements.txt",
   "id": "7c7c469c972db25c"
  },
  {
   "metadata": {},
   "cell_type": "code",
   "outputs": [],
   "execution_count": null,
   "source": "!pip install -U datasets",
   "id": "47f4d63a7f5248ff"
  },
  {
   "metadata": {},
   "cell_type": "markdown",
   "source": "#code",
   "id": "7eebb2331721c6ed"
  },
  {
   "metadata": {},
   "cell_type": "code",
   "outputs": [],
   "execution_count": null,
   "source": [
    "#code\n",
    "from datasets import load_from_disk\n",
    "from transformers import LayoutLMv3ForTokenClassification, AutoProcessor\n",
    "import sys\n",
    "import importlib\n",
    "\n",
    "\n",
    "def reload_modules():\n",
    "    for module in list(sys.modules.keys()):\n",
    "        if module.startswith('vrdu_utils') or module.startswith('Classification_Explain'):\n",
    "            print(f\"Reloading module: {module}\")\n",
    "            importlib.reload(sys.modules[module])\n",
    "\n",
    "\n",
    "reload_modules()\n",
    "\n",
    "from vrdu_utils.encoders import *\n",
    "from Classification_Explain.lime import *\n",
    "import torch\n",
    "\n",
    "device = torch.device(\"cuda\" if torch.cuda.is_available() else \"cpu\")\n",
    "from datasets import load_dataset\n",
    "import warnings\n",
    "from transformers import logging as hf_logging\n",
    "\n",
    "warnings.filterwarnings(\n",
    "    \"ignore\",\n",
    "    category=FutureWarning,\n",
    "    module=\"transformers.modeling_utils\",  # the module that emits the msg\n",
    ")\n",
    "hf_logging.set_verbosity_error()"
   ],
   "id": "3c1c0bf972c58f19"
  },
  {
   "metadata": {},
   "cell_type": "code",
   "outputs": [],
   "execution_count": null,
   "source": [
    "funsd = load_dataset(\"neilsr/funsd\")\n",
    "dataset = funsd[\"validation\"]\n",
    "sample = dataset[10]"
   ],
   "id": "a3751c0f60b91765"
  },
  {
   "metadata": {},
   "cell_type": "code",
   "outputs": [],
   "execution_count": null,
   "source": [
    "sample_ds = DocSample(\n",
    "    image = sample[\"image\"].convert(\"RGB\"),\n",
    "    words = sample[\"words\"],\n",
    "    bboxes = sample[\"bboxes\"],\n",
    "    label = sample[\"label\"]\n",
    ")"
   ],
   "id": "7e0ce2ebeecc4d98"
  }
 ],
 "metadata": {
  "kernelspec": {
   "display_name": "Python 3",
   "language": "python",
   "name": "python3"
  },
  "language_info": {
   "codemirror_mode": {
    "name": "ipython",
    "version": 2
   },
   "file_extension": ".py",
   "mimetype": "text/x-python",
   "name": "python",
   "nbconvert_exporter": "python",
   "pygments_lexer": "ipython2",
   "version": "2.7.6"
  }
 },
 "nbformat": 4,
 "nbformat_minor": 5
}
